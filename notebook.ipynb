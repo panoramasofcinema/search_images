{
 "cells": [
  {
   "cell_type": "code",
   "execution_count": 1,
   "metadata": {},
   "outputs": [
    {
     "data": {
      "text/html": [
       "<script>\n",
       "code_show=true; \n",
       "function code_toggle() {\n",
       " if (code_show){\n",
       " $('div.input').hide();\n",
       " } else {\n",
       " $('div.input').show();\n",
       " }\n",
       " code_show = !code_show\n",
       "} \n",
       "$( document ).ready(code_toggle);\n",
       "</script>\n",
       "toggle the code of this notebook on/off &nbsp;<a href=\"javascript:code_toggle()\">^</a>"
      ],
      "text/plain": [
       "<IPython.core.display.HTML object>"
      ]
     },
     "metadata": {},
     "output_type": "display_data"
    }
   ],
   "source": [
    "from IPython.display import HTML, display\n",
    "\n",
    "display(HTML('''<script>\n",
    "code_show=true; \n",
    "function code_toggle() {\n",
    " if (code_show){\n",
    " $('div.input').hide();\n",
    " } else {\n",
    " $('div.input').show();\n",
    " }\n",
    " code_show = !code_show\n",
    "} \n",
    "$( document ).ready(code_toggle);\n",
    "</script>\n",
    "toggle the code of this notebook on/off &nbsp;<a href=\"javascript:code_toggle()\">^</a>'''))"
   ]
  },
  {
   "cell_type": "markdown",
   "metadata": {
    "slideshow": {
     "slide_type": "-"
    }
   },
   "source": [
    "### PANORAMAS OF CINEMA online"
   ]
  },
  {
   "cell_type": "markdown",
   "metadata": {},
   "source": [
    "# // IMAGE SEARCH\n",
    "v0.02"
   ]
  },
  {
   "cell_type": "code",
   "execution_count": 2,
   "metadata": {
    "code_folding": []
   },
   "outputs": [],
   "source": [
    "# REQUEST INDEXES\n",
    "import requests\n",
    "r = requests.get(\"https://panoramas-of-cinema.s3.eu-central-1.amazonaws.com/indexes/videotheques_inv.json\")\n",
    "query_response = r.json()\n",
    "\n",
    "button_color = 'black' # #7d1b27 darkRed"
   ]
  },
  {
   "cell_type": "markdown",
   "metadata": {},
   "source": [
    "## SEARCH THE VIDEOTHEQUE"
   ]
  },
  {
   "cell_type": "markdown",
   "metadata": {},
   "source": [
    "### places index"
   ]
  },
  {
   "cell_type": "code",
   "execution_count": 3,
   "metadata": {
    "code_folding": [],
    "scrolled": false
   },
   "outputs": [
    {
     "name": "stdout",
     "output_type": "stream",
     "text": [
      "airfield  .  airplane_cabin  .  airport_terminal  .  alcove  .  alley  .  amphitheater  .  amusement_arcade  .  amusement_park  .  apartment_building_outdoor  .  aquarium  .  aqueduct  .  arcade  .  arch  .  archaelogical_excavation  .  archive  .  arena_hockey  .  arena_performance  .  arena_rodeo  .  army_base  .  art_gallery  .  art_school  .  art_studio  .  artists_loft  .  assembly_line  .  athletic_field_outdoor  .  atrium_public  .  attic  .  auditorium  .  auto_factory  .  auto_showroom  .  badlands  .  bakery_shop  .  balcony_exterior  .  balcony_interior  .  ball_pit  .  ballroom  .  bamboo_forest  .  bank_vault  .  banquet_hall  .  bar  .  barn  .  barndoor  .  baseball_field  .  basement  .  basketball_court_indoor  .  bathroom  .  bazaar_indoor  .  bazaar_outdoor  .  beach  .  beach_house  .  beauty_salon  .  bedchamber  .  bedroom  .  beer_garden  .  beer_hall  .  berth  .  biology_laboratory  .  boardwalk  .  boat_deck  .  boathouse  .  bookstore  .  booth_indoor  .  botanical_garden  .  bow_window_indoor  .  bowling_alley  .  boxing_ring  .  bridge  .  building_facade  .  bullring  .  burial_chamber  .  bus_interior  .  bus_station_indoor  .  butchers_shop  .  butte  .  cabin_outdoor  .  cafeteria  .  campsite  .  campus  .  canal_natural  .  canal_urban  .  candy_store  .  canyon  .  car_interior  .  carrousel  .  castle  .  catacomb  .  cemetery  .  chalet  .  chemistry_lab  .  childs_room  .  church_indoor  .  church_outdoor  .  classroom  .  clean_room  .  cliff  .  closet  .  clothing_store  .  coast  .  cockpit  .  coffee_shop  .  computer_room  .  conference_center  .  conference_room  .  construction_site  .  corn_field  .  corral  .  corridor  .  cottage  .  courthouse  .  courtyard  .  creek  .  crevasse  .  crosswalk  .  dam  .  delicatessen  .  department_store  .  desert_road  .  desert_sand  .  desert_vegetation  .  diner_outdoor  .  dining_hall  .  dining_room  .  discotheque  .  doorway_outdoor  .  dorm_room  .  downtown  .  dressing_room  .  driveway  .  drugstore  .  elevator_door  .  elevator_lobby  .  elevator_shaft  .  embassy  .  engine_room  .  entrance_hall  .  escalator_indoor  .  excavation  .  fabric_store  .  farm  .  fastfood_restaurant  .  field_cultivated  .  field_road  .  field_wild  .  fire_escape  .  fire_station  .  fishpond  .  flea_market_indoor  .  florist_shop_indoor  .  food_court  .  football_field  .  forest_broadleaf  .  forest_path  .  forest_road  .  formal_garden  .  fountain  .  galley  .  garage_indoor  .  garage_outdoor  .  gas_station  .  gazebo_exterior  .  general_store_indoor  .  general_store_outdoor  .  gift_shop  .  glacier  .  golf_course  .  greenhouse_indoor  .  greenhouse_outdoor  .  grotto  .  gymnasium_indoor  .  hangar_indoor  .  hangar_outdoor  .  harbor  .  hardware_store  .  hayfield  .  heliport  .  highway  .  home_office  .  home_theater  .  hospital  .  hospital_room  .  hot_spring  .  hotel_outdoor  .  hotel_room  .  house  .  hunting_lodge_outdoor  .  ice_cream_parlor  .  ice_floe  .  ice_shelf  .  ice_skating_rink_indoor  .  ice_skating_rink_outdoor  .  iceberg  .  igloo  .  industrial_area  .  inn_outdoor  .  islet  .  jacuzzi_indoor  .  jail_cell  .  japanese_garden  .  jewelry_shop  .  junkyard  .  kasbah  .  kennel_outdoor  .  kindergarden_classroom  .  kitchen  .  lagoon  .  lake_natural  .  landfill  .  landing_deck  .  laundromat  .  lawn  .  lecture_room  .  legislative_chamber  .  library_indoor  .  library_outdoor  .  lighthouse  .  living_room  .  loading_dock  .  lobby  .  lock_chamber  .  locker_room  .  mansion  .  manufactured_home  .  market_indoor  .  market_outdoor  .  marsh  .  martial_arts_gym  .  mausoleum  .  medina  .  mezzanine  .  moat_water  .  mosque_outdoor  .  motel  .  mountain  .  mountain_path  .  mountain_snowy  .  movie_theater_indoor  .  museum_indoor  .  museum_outdoor  .  music_studio  .  natural_history_museum  .  nursery  .  nursing_home  .  oast_house  .  ocean  .  office  .  office_building  .  office_cubicles  .  oilrig  .  operating_room  .  orchard  .  orchestra_pit  .  pagoda  .  palace  .  pantry  .  park  .  parking_garage_indoor  .  parking_garage_outdoor  .  parking_lot  .  pasture  .  patio  .  pavilion  .  pet_shop  .  pharmacy  .  phone_booth  .  physics_laboratory  .  picnic_area  .  pier  .  pizzeria  .  playground  .  playroom  .  plaza  .  pond  .  porch  .  promenade  .  pub_indoor  .  racecourse  .  raceway  .  raft  .  railroad_track  .  rainforest  .  reception  .  recreation_room  .  repair_shop  .  residential_neighborhood  .  restaurant  .  restaurant_kitchen  .  restaurant_patio  .  rice_paddy  .  river  .  rock_arch  .  roof_garden  .  rope_bridge  .  ruin  .  runway  .  sandbox  .  sauna  .  schoolhouse  .  science_museum  .  server_room  .  shed  .  shoe_shop  .  shopfront  .  shopping_mall_indoor  .  shower  .  ski_resort  .  ski_slope  .  sky  .  skyscraper  .  slum  .  snowfield  .  soccer_field  .  stable  .  stadium_baseball  .  stadium_football  .  stadium_soccer  .  stage_indoor  .  stage_outdoor  .  staircase  .  storage_room  .  street  .  subway_station_platform  .  supermarket  .  sushi_bar  .  swamp  .  swimming_hole  .  swimming_pool_indoor  .  swimming_pool_outdoor  .  synagogue_outdoor  .  television_room  .  television_studio  .  temple_asia  .  throne_room  .  ticket_booth  .  topiary_garden  .  tower  .  toyshop  .  train_interior  .  train_station_platform  .  tree_farm  .  tree_house  .  trench  .  tundra  .  underwater_ocean_deep  .  utility_room  .  valley  .  vegetable_garden  .  veterinarians_office  .  viaduct  .  village  .  vineyard  .  volcano  .  volleyball_court_outdoor  .  waiting_room  .  water_park  .  water_tower  .  waterfall  .  watering_hole  .  wave  .  wet_bar  .  wheat_field  .  wind_farm  .  windmill  .  yard  .  youth_hostel  .  zen_garden  .  "
     ]
    }
   ],
   "source": [
    "# SHOW INDEXES \n",
    "for e in sorted(query_response['places']):\n",
    "    print(e, end='  .  ')"
   ]
  },
  {
   "cell_type": "markdown",
   "metadata": {},
   "source": [
    "### objects index"
   ]
  },
  {
   "cell_type": "code",
   "execution_count": 4,
   "metadata": {
    "code_folding": []
   },
   "outputs": [
    {
     "name": "stdout",
     "output_type": "stream",
     "text": [
      "aeroplane  .  apple  .  backpack  .  banana  .  baseball_bat  .  baseball_glove  .  bear  .  bed  .  bench  .  bicycle  .  bird  .  boat  .  book  .  bottle  .  bowl  .  broccoli  .  bus  .  cake  .  car  .  carrot  .  cat  .  cell_phone  .  chair  .  clock  .  cow  .  cup  .  diningtable  .  dog  .  donut  .  elephant  .  fire_hydrant  .  fork  .  frisbee  .  giraffe  .  hair_drier  .  handbag  .  horse  .  hot_dog  .  keyboard  .  kite  .  knife  .  laptop  .  microwave  .  motorbike  .  mouse  .  orange  .  oven  .  parking_meter  .  person  .  pizza  .  pottedplant  .  refrigerator  .  remote  .  sandwich  .  scissors  .  sheep  .  sink  .  skateboard  .  skis  .  snowboard  .  sofa  .  spoon  .  sports_ball  .  stop_sign  .  suitcase  .  surfboard  .  teddy_bear  .  tennis_racket  .  tie  .  toaster  .  toilet  .  toothbrush  .  traffic_light  .  train  .  truck  .  tvmonitor  .  umbrella  .  vase  .  wine_glass  .  zebra  .  "
     ]
    }
   ],
   "source": [
    "# SHOW INDEXES \n",
    "for e in sorted(query_response['objects']):\n",
    "    print(e, end='  .  ')"
   ]
  },
  {
   "cell_type": "markdown",
   "metadata": {},
   "source": [
    "### > type the indexes and tune the confidences"
   ]
  },
  {
   "cell_type": "code",
   "execution_count": 5,
   "metadata": {},
   "outputs": [
    {
     "data": {
      "application/vnd.jupyter.widget-view+json": {
       "model_id": "51725733ac714ed586e3ce426af70806",
       "version_major": 2,
       "version_minor": 0
      },
      "text/plain": [
       "interactive(children=(Text(value='', description='place'), SelectionRangeSlider(description='confidence', inde…"
      ]
     },
     "metadata": {},
     "output_type": "display_data"
    },
    {
     "data": {
      "application/vnd.jupyter.widget-view+json": {
       "model_id": "4bf6211739324ec68553cbd6306d80b4",
       "version_major": 2,
       "version_minor": 0
      },
      "text/plain": [
       "interactive(children=(Text(value='', description='obj'), SelectionRangeSlider(description='confidence', index=…"
      ]
     },
     "metadata": {},
     "output_type": "display_data"
    }
   ],
   "source": [
    "# DISPLAY WIDGETS \n",
    "from IPython.display import display, clear_output\n",
    "from ipywidgets import interactive, interact\n",
    "import ipywidgets as widgets\n",
    "\n",
    "options = []\n",
    "s=0.01\n",
    "for i in range(100):\n",
    "    options.append(\"%.2f\"%s)\n",
    "    s+=.01\n",
    "\n",
    "def p(place, confidence):\n",
    "    return\n",
    "\n",
    "def o(obj, confidence):\n",
    "    return\n",
    "\n",
    "w_places = interactive(p, place='',\n",
    "                       confidence = widgets.SelectionRangeSlider(options=options, index=(0,99), description='confidence') )\n",
    "\n",
    "w_objects = interactive(o, obj='',\n",
    "                        confidence = widgets.SelectionRangeSlider(options=options, index=(0,99), description='confidence') )\n",
    "\n",
    "\n",
    "display(w_places)\n",
    "display(w_objects)"
   ]
  },
  {
   "cell_type": "markdown",
   "metadata": {},
   "source": [
    "### > select the faces"
   ]
  },
  {
   "cell_type": "code",
   "execution_count": 6,
   "metadata": {},
   "outputs": [
    {
     "data": {
      "application/vnd.jupyter.widget-view+json": {
       "model_id": "f0ad23b1a86b45b6b0b298e131892c98",
       "version_major": 2,
       "version_minor": 0
      },
      "text/plain": [
       "interactive(children=(Checkbox(value=True, description='no_faces'), Checkbox(value=True, description='yes_face…"
      ]
     },
     "metadata": {},
     "output_type": "display_data"
    }
   ],
   "source": [
    "def f(no_faces, yes_faces):\n",
    "    return\n",
    "w_faces = interactive(f, no_faces=True, yes_faces=True)\n",
    "display(w_faces)"
   ]
  },
  {
   "cell_type": "code",
   "execution_count": 7,
   "metadata": {
    "code_folding": []
   },
   "outputs": [
    {
     "data": {
      "application/vnd.jupyter.widget-view+json": {
       "model_id": "5f3132b2418345afb54d24ff8f368c60",
       "version_major": 2,
       "version_minor": 0
      },
      "text/plain": [
       "Button(button_style='info', description='search', style=ButtonStyle(button_color='black'))"
      ]
     },
     "metadata": {},
     "output_type": "display_data"
    }
   ],
   "source": [
    "# REFRESH QUERY\n",
    "def refresh_query(event):\n",
    "    clear_output()\n",
    "    display(refresh_button)\n",
    "    \n",
    "    place = w_places.kwargs['place']\n",
    "    #place_conf = \"%s,%s\"%(w_places.kwargs['min_conf'],w_places.kwargs['max_conf'])\n",
    "    place_conf = \"%s,%s\"%(w_places.kwargs['confidence'])\n",
    "\n",
    "    obj = w_objects.kwargs['obj']\n",
    "    #obj_conf = \"%s,%s\"%(w_objects.kwargs['min_conf'],w_objects.kwargs['max_conf'])\n",
    "    obj_conf = \"%s,%s\"%(w_objects.kwargs['confidence'])\n",
    "\n",
    "    faces = str()\n",
    "    if w_faces.kwargs['no_faces']:\n",
    "        faces = faces+'no_faces'\n",
    "    if w_faces.kwargs['yes_faces']:\n",
    "        if len(faces) > 0:\n",
    "            faces = faces+',small_faces'\n",
    "        else:\n",
    "            faces = faces+'small_faces'\n",
    "\n",
    "    # \n",
    "    this_query = 'http://pocquery-env.eba-ap3n3cr3.eu-central-1.elasticbeanstalk.com/query?'\n",
    "    if place: this_query = this_query+'places=%s,%s'%(place,place_conf)\n",
    "    if faces: this_query = this_query+'&faces=%s'%faces\n",
    "    if obj: this_query = this_query+'&objects=%s,%s'%(obj,obj_conf)\n",
    "    \n",
    "    global my_frames\n",
    "    my_frames = requests.get(this_query).json()['response']\n",
    "    print (len(my_frames), 'images with this search') # this_query[73:]\n",
    "    \n",
    "    global my_globals\n",
    "    my_globals = {'plotted':[], 'w_buttons':[]}\n",
    "\n",
    "                    \n",
    "refresh_button = widgets.Button(description=\"search\", button_style='info')\n",
    "refresh_button.style.button_color = button_color\n",
    "display(refresh_button)\n",
    "refresh_button.on_click(refresh_query)"
   ]
  },
  {
   "cell_type": "code",
   "execution_count": 8,
   "metadata": {
    "code_folding": []
   },
   "outputs": [
    {
     "data": {
      "application/vnd.jupyter.widget-view+json": {
       "model_id": "66d62fa87e0641bb94ae9e6fdfc35541",
       "version_major": 2,
       "version_minor": 0
      },
      "text/plain": [
       "Button(button_style='info', description='show', style=ButtonStyle(button_color='black'))"
      ]
     },
     "metadata": {},
     "output_type": "display_data"
    }
   ],
   "source": [
    "# PLOT RANDOM FRAMES\n",
    "def plot_frames(event):\n",
    "    clear_output()\n",
    "    display(plot_button)\n",
    "    \n",
    "    how_many = 16\n",
    "    plot_x, plot_y = 4,4\n",
    "\n",
    "    if len(my_frames) < how_many:\n",
    "        how_many = len(my_frames)\n",
    "\n",
    "    all_i = [ i for i in range(len(my_frames)) ]\n",
    "\n",
    "    import random\n",
    "    on_off = True\n",
    "    this_sample = []\n",
    "    while on_off:\n",
    "        if len(my_globals['plotted']) == len(my_frames):\n",
    "            my_globals['plotted'] = []\n",
    "            print(\"...you've seen it all\")\n",
    "        r = random.choice(all_i)\n",
    "        if r in my_globals['plotted']:\n",
    "            pass\n",
    "        else:\n",
    "            this_sample.append(r)\n",
    "            my_globals['plotted'].append(r)\n",
    "            if len(my_globals['plotted']) == len(my_frames):\n",
    "                print('...last batch')\n",
    "                break\n",
    "        if len(this_sample) == how_many:\n",
    "            break\n",
    "\n",
    "    # OPEN IMAGES ------------------------------\n",
    "    import requests\n",
    "    s3BucketName = \"panoramas-of-cinema\"\n",
    "    region_name = 'eu-central-1'\n",
    "\n",
    "    i=0\n",
    "    frames_plot = []\n",
    "    for e in my_frames:\n",
    "        film = e['movieId']\n",
    "        frame = e['frameId']\n",
    "        if i in this_sample:\n",
    "            try:\n",
    "                objectKey = \"frames_db%s/by_scene_thumbnail%s\" % (film, frame)\n",
    "                this_frame = \"https://%s.s3.%s.amazonaws.com/%s\"%(s3BucketName,region_name,objectKey)\n",
    "                img = requests.get(this_frame).content          \n",
    "                frames_plot.append( (film, frame, img) )\n",
    "            except:\n",
    "                raise \n",
    "        i+=1\n",
    "\n",
    "    # PLOT ------------------------------\n",
    "    def on_button_clicked(event):\n",
    "        global movie_2p\n",
    "        global frame_2p\n",
    "        this_button = id(event)\n",
    "        G = globals()\n",
    "        all_buttons = G['my_globals']['w_buttons']\n",
    "        for i, b in enumerate(all_buttons):\n",
    "            this_id = id(b)\n",
    "            if this_button == this_id:\n",
    "                movie_2p = my_globals['w_buttons'][i].description\n",
    "                frame_2p = my_globals['w_buttons'][i].tooltip\n",
    "\n",
    "    print('...plotting %s images from %s'%(how_many, len(my_frames)))\n",
    "    from ipywidgets import Button, HBox, VBox\n",
    "    import ipywidgets as widgets\n",
    "\n",
    "    k = 0\n",
    "    movie_index, movie_names = 0, []\n",
    "    vboxes = []\n",
    "    for i in range(plot_x):\n",
    "        this_col = []\n",
    "        for j in range(plot_y):\n",
    "            if k < len(frames_plot):\n",
    "                try:\n",
    "                    image_w = widgets.Image(value=frames_plot[k][2], format='png', width=250) #height=400\n",
    "                    button = widgets.Button(description=frames_plot[k][0], tooltip=frames_plot[k][1])\n",
    "                    my_globals['w_buttons'].append(button)\n",
    "\n",
    "                    button.on_click( on_button_clicked )\n",
    "\n",
    "                    this_box = [image_w, button]\n",
    "                    this_col = this_col+this_box\n",
    "\n",
    "                except:\n",
    "                    raise\n",
    "            k+=1\n",
    "\n",
    "        box = VBox( this_col )\n",
    "        vboxes.append(box)\n",
    "\n",
    "    display(HBox( vboxes ))\n",
    "    \n",
    "plot_button = widgets.Button(description=\"show\", button_style='info')\n",
    "plot_button.style.button_color = button_color\n",
    "display(plot_button)\n",
    "plot_button.on_click(plot_frames)"
   ]
  },
  {
   "cell_type": "code",
   "execution_count": 9,
   "metadata": {},
   "outputs": [
    {
     "name": "stdout",
     "output_type": "stream",
     "text": [
      "\n",
      " \n",
      " \n",
      "\n"
     ]
    }
   ],
   "source": [
    "print('\\n', '\\n', '\\n')"
   ]
  },
  {
   "cell_type": "markdown",
   "metadata": {},
   "source": [
    "## HD IMAGE"
   ]
  },
  {
   "cell_type": "markdown",
   "metadata": {},
   "source": [
    "### > click on an image"
   ]
  },
  {
   "cell_type": "code",
   "execution_count": 10,
   "metadata": {},
   "outputs": [
    {
     "data": {
      "application/vnd.jupyter.widget-view+json": {
       "model_id": "4df9d80df2444d7394f81edb263a695e",
       "version_major": 2,
       "version_minor": 0
      },
      "text/plain": [
       "Button(button_style='info', description='hq image', style=ButtonStyle(button_color='black'))"
      ]
     },
     "metadata": {},
     "output_type": "display_data"
    }
   ],
   "source": [
    "from IPython.display import Image, display\n",
    "\n",
    "def get_hq_image(event):\n",
    "    clear_output()\n",
    "    display(hq_image_button)\n",
    "    \n",
    "    objectKey = \"frames_db%s/by_scene%s\" % (movie_2p, frame_2p)\n",
    "    display(Image(url='https://panoramas-of-cinema.s3.eu-central-1.amazonaws.com/%s'%objectKey, width=450))\n",
    "    print('%s%s'%(movie_2p[1:],frame_2p[6:-4]))\n",
    "    \n",
    "hq_image_button = widgets.Button(description=\"hq image\", button_style='info')\n",
    "hq_image_button.style.button_color = button_color\n",
    "display(hq_image_button)\n",
    "hq_image_button.on_click(get_hq_image)"
   ]
  },
  {
   "cell_type": "code",
   "execution_count": 11,
   "metadata": {},
   "outputs": [
    {
     "name": "stdout",
     "output_type": "stream",
     "text": [
      "\n",
      " \n",
      " \n",
      "\n"
     ]
    }
   ],
   "source": [
    "print('\\n', '\\n', '\\n')"
   ]
  },
  {
   "cell_type": "markdown",
   "metadata": {},
   "source": [
    "## PLAY A CLIP"
   ]
  },
  {
   "cell_type": "markdown",
   "metadata": {},
   "source": [
    "### > click on an image"
   ]
  },
  {
   "cell_type": "code",
   "execution_count": 12,
   "metadata": {},
   "outputs": [
    {
     "data": {
      "application/vnd.jupyter.widget-view+json": {
       "model_id": "f28d2dadaff2439b88dc77cdb0bd7b3e",
       "version_major": 2,
       "version_minor": 0
      },
      "text/plain": [
       "HBox(children=(Button(button_style='info', description='<<<', style=ButtonStyle(button_color='black')), Button…"
      ]
     },
     "metadata": {},
     "output_type": "display_data"
    }
   ],
   "source": [
    "# PLAY THE CLIP \n",
    "def play_clip(event):\n",
    "    clear_output()\n",
    "    display(ui1)\n",
    "\n",
    "    global r\n",
    "    clip_query = 'http://pocgetclip-env.eba-4phq6b4m.eu-central-1.elasticbeanstalk.com/clip?movie=%s&frame=%s'%(movie_2p[1:],frame_2p[7:-4])\n",
    "    r = requests.get(clip_query).json()\n",
    "\n",
    "    from IPython.display import Video\n",
    "    display(Video(r['play'], height=300, html_attributes=\"controls autoplay\"))\n",
    "    print('%s%s'%(movie_2p[1:],frame_2p[6:-4]))\n",
    "    \n",
    "def play_before(event):\n",
    "    clear_output()\n",
    "    display(ui1)\n",
    "    \n",
    "    from IPython.display import Video\n",
    "    display(Video(r['before'], height=300, html_attributes=\"controls autoplay\"))\n",
    "    this_f = r['before'].find('frame-')\n",
    "    print('%s%s'%(movie_2p[1:],r['before'][(this_f)+5:-4]))\n",
    "    \n",
    "def play_after(event):\n",
    "    clear_output()\n",
    "    display(ui1)\n",
    "    \n",
    "    from IPython.display import Video\n",
    "    display(Video(r['after'], height=300, html_attributes=\"controls autoplay\"))\n",
    "    this_f = r['after'].find('frame-')\n",
    "    print('%s%s'%(movie_2p[1:],r['after'][(this_f)+5:-4]))\n",
    "    \n",
    "# buttons box\n",
    "play_button = widgets.Button(description=\"play\", button_style='info')\n",
    "play_button.style.button_color = button_color\n",
    "playB_button = widgets.Button(description=\"<<<\", button_style='info')\n",
    "playB_button.style.button_color = button_color\n",
    "playA_button = widgets.Button(description=\">>>\", button_style='info')\n",
    "playA_button.style.button_color = button_color\n",
    "ui1 = widgets.HBox([playB_button, play_button, playA_button])\n",
    "display(ui1)\n",
    "\n",
    "\n",
    "play_button.on_click(play_clip)\n",
    "playB_button.on_click(play_before)\n",
    "playA_button.on_click(play_after)"
   ]
  },
  {
   "cell_type": "code",
   "execution_count": 13,
   "metadata": {},
   "outputs": [
    {
     "name": "stdout",
     "output_type": "stream",
     "text": [
      "\n",
      " \n",
      " \n",
      "\n"
     ]
    }
   ],
   "source": [
    "print('\\n', '\\n', '\\n')"
   ]
  },
  {
   "cell_type": "markdown",
   "metadata": {},
   "source": [
    "## YOUR TAGS"
   ]
  },
  {
   "cell_type": "markdown",
   "metadata": {},
   "source": [
    "### ADD"
   ]
  },
  {
   "cell_type": "markdown",
   "metadata": {},
   "source": [
    "### > click on an image and type its tag and your user name"
   ]
  },
  {
   "cell_type": "code",
   "execution_count": 14,
   "metadata": {},
   "outputs": [],
   "source": [
    "tag_http = 'http://poctag-env.eba-vjpstfpz.eu-central-1.elasticbeanstalk.com/tags'"
   ]
  },
  {
   "cell_type": "code",
   "execution_count": 15,
   "metadata": {},
   "outputs": [
    {
     "data": {
      "application/vnd.jupyter.widget-view+json": {
       "model_id": "ff7091ba1b784ab3b71aae2a0b4101a2",
       "version_major": 2,
       "version_minor": 0
      },
      "text/plain": [
       "interactive(children=(Text(value='', description='tag'), Output()), _dom_classes=('widget-interact',))"
      ]
     },
     "metadata": {},
     "output_type": "display_data"
    },
    {
     "data": {
      "application/vnd.jupyter.widget-view+json": {
       "model_id": "ef179333e75d4dc3a211dd890cf6364a",
       "version_major": 2,
       "version_minor": 0
      },
      "text/plain": [
       "interactive(children=(Text(value='', description='user'), Output()), _dom_classes=('widget-interact',))"
      ]
     },
     "metadata": {},
     "output_type": "display_data"
    },
    {
     "data": {
      "application/vnd.jupyter.widget-view+json": {
       "model_id": "cafe3d7c97c04a6dad152e046978a9b4",
       "version_major": 2,
       "version_minor": 0
      },
      "text/plain": [
       "Button(button_style='info', description='add tag', style=ButtonStyle(button_color='black'))"
      ]
     },
     "metadata": {},
     "output_type": "display_data"
    }
   ],
   "source": [
    "# DISPLAY WIDGETS \n",
    "def getUser(user):\n",
    "    return\n",
    "\n",
    "def getTag(tag):\n",
    "    return\n",
    "\n",
    "w_user = interactive(getUser, user='')\n",
    "w_tag = interactive(getTag, tag='')\n",
    "\n",
    "# REFRESH QUERY\n",
    "def add_tag(event):\n",
    "    clear_output()\n",
    "    display(w_tag)\n",
    "    display(w_user)\n",
    "    display(add_tag_button)\n",
    "    \n",
    "    this_user = w_user.kwargs['user']\n",
    "    this_tag = w_tag.kwargs['tag']\n",
    "    this_frame = '%s,%s'%(movie_2p,frame_2p)\n",
    "    this_request = tag_http+'?action=ADD&tag=%s&user=%s&frame=%s'%(this_tag,this_user,this_frame)\n",
    "    r = requests.get(this_request).json()['statusCode']\n",
    "    if r == 200: print('tag added to : %s %s'%(movie_2p, frame_2p))\n",
    "    else: print ('error %s'%r)\n",
    "\n",
    "add_tag_button = widgets.Button(description=\"add tag\", button_style='info')\n",
    "add_tag_button.style.button_color = button_color\n",
    "add_tag_button.on_click(add_tag)\n",
    "\n",
    "display(w_tag)\n",
    "display(w_user)\n",
    "display(add_tag_button)"
   ]
  },
  {
   "cell_type": "code",
   "execution_count": 16,
   "metadata": {},
   "outputs": [
    {
     "name": "stdout",
     "output_type": "stream",
     "text": [
      "\n",
      " \n",
      " \n",
      "\n"
     ]
    }
   ],
   "source": [
    "print('\\n', '\\n', '\\n')"
   ]
  },
  {
   "cell_type": "markdown",
   "metadata": {},
   "source": [
    "### SEARCH"
   ]
  },
  {
   "cell_type": "markdown",
   "metadata": {},
   "source": [
    "### tags index"
   ]
  },
  {
   "cell_type": "code",
   "execution_count": 17,
   "metadata": {},
   "outputs": [
    {
     "name": "stdout",
     "output_type": "stream",
     "text": [
      " mouth  .  Archive  .  Elizabeth  .  H2O  .  Marchant  .  Na  .  Sophists’ money  .  Spirit  .  agora  .  agora portal  .  agora theatre  .  aiakos  .  aisle  .  alien  .  all  .  amphitheatre  .  apollo  .  apollon  .  apotheosium  .  applause  .  arava_valley  .  arcade  .  architecturalcomponent  .  archive  .  area  .  area_lizzy  .  area_lizzy2  .  arena  .  ark  .  assembly  .  atmosphere  .  attack  .  audience  .  auditorium  .  balcony  .  balloon  .  ballroom  .  bank  .  banquet  .  banquet panorama  .  banquet2  .  banquetpanorama  .  bar  .  baroque  .  basileion  .  basileios  .  basilica  .  basilica_altar  .  basilica_atmosphere  .  basilica_ceiling  .  basilica_columns  .  basilica_floor  .  basin  .  bath  .  bath   .  bathrobe  .  bderoom  .  beach  .  bedroom  .  bedroom_atmosphere  .  bema  .  big_hall  .  billboard  .  biosphere  .  bird  .  bistrot_atmosphere  .  bistrot_ceiling  .  bistrot_columns  .  bistrot_floor  .  bistrot_table  .  bite  .  black  .  blackout  .  blade-runner  .  bladerunner  .  blood  .  blue  .  boat  .  bondage  .  book  .  boudoir  .  bouleterion  .  boxing   .  bubble  .  buffet  .  building site  .  burning  .  cafe  .  cage  .  camping  .  candles  .  candy  .  capsule  .  carpet  .  carrousel  .  cassettes  .  catacombs  .  catastrophe  .  cathedral  .  cave  .  cemetery  .  centralizing  .  ceremony  .  ch  .  chairs  .  chaiselongue  .  chandelier  .  chase  .  chess  .  children  .  chr  .  chrome  .  church  .  churches  .  cigarette  .  cinema  .  circe  .  circe_confusing  .  circe_openings  .  circe_roofs  .  circe_sorted_1  .  circe_textile  .  circe_walls  .  circle  .  circus  .  city  .  cityscape  .  classicism  .  clinic  .  clo  .  cloche  .  cloud  .  colonade  .  color  .  color-palette  .  colour  .  colours  .  columns  .  confession  .  connections  .  continuous_space  .  cook  .  copy  .  coral  .  corner  .  corridor  .  council  .  coupola  .  courage  .  courtyard  .  couveuse  .  coverBrief  .  craft  .  creation  .  crowd  .  crystal  .  cupbearer  .  cupola  .  curtain  .  cycle  .  cycling  .  danae  .  dance  .  dead animals  .  delirium  .  desert  .  detail  .  diams  .  diner  .  dining  .  dining hall  .  diningRed  .  dining_room  .  dinner  .  diplomatic_Material  .  diplomatic_corridor  .  diplomatic_furniture  .  diplomatic_material  .  domestic  .  dominic  .  doors  .  double_helix  .  dpilomatic_corridor  .  draught  .  dress_up  .  dressedup  .  dressingroom  .  drink  .  duble_helix  .  dumbwaiter  .  dumbwaiter_mouth  .  dumbwaiter_plate  .  dumbwaiter_shaft  .  echo  .  echo_material  .  echo_structure  .  echo_topo  .  egg  .  egg_cook  .  eiffel tower  .  electric  .  elements  .  elevator  .  elevator_shaft  .  elisabeth  .  embty_room  .  entrance  .  entrance_hall_lizzy  .  escalation  .  event  .  excess  .  fabric  .  facade  .  facade_lizzy  .  facde  .  fall  .  fashion  .  feast  .  figure  .  fire  .  fire   .  floating_tank  .  flood  .  floor  .  foam  .  fog  .  food  .  food   .  forest  .  forest/swamp  .  fountain  .  fountain_of_youth  .  foyer  .  frankenstein  .  free  .  friendliness  .  fur  .  gallery  .  garbage dump  .  garden  .  garden-city  .  gate  .  gift  .  glas_breaking  .  glass  .  god  .  gold  .  green_marble  .  greenhouse  .  grid  .  grotte  .  grotto  .  gsm  .  guest  .  guests  .  guild  .  guilt  .  hall  .  hand  .  hearthbeat_smelling  .  heaven  .  hedge  .  hell  .  helmsman  .  hephaistos  .  horizon  .  hotel-room  .  ice  .  iceberg  .  illusion  .  industry  .  influencer  .  ins  .  insect  .  inside  .  interaction  .  interior  .  interspace  .  jewelry  .  joy  .  justice  .  kai  .  kill  .  king'sCarrousel  .  king'sChamber  .  king'sCity  .  king'sDinner  .  king'sHall  .  king'sHorse  .  king'sStage  .  king'sYacht  .  kiss  .  kitchen  .  kitchen_element  .  kitchen_elements  .  kitchen_material  .  labblue  .  labyrinth  .  landscape  .  latermaybe  .  lavatorium  .  lavatory  .  lecture_room  .  lenny  .  letter  .  liberality  .  library  .  library_work  .  liftknopf  .  light  .  light   .  light_hearing  .  limestone  .  line1  .  line2  .  line3  .  line4  .  living_room  .  lizzyszoo  .  lobby  .  lynchean  .  magic  .  magnanimity  .  magnificence  .  main_hall  .  marble  .  market  .  material  .  material_kitchen  .  maybe  .  maybe   .  maybelater  .  maze_facade  .  media  .  medieval city  .  meeting  .  menagerie  .  menu  .  metis  .  metis_columns  .  metis_openings  .  metis_patterns  .  metis_roofs  .  metis_sorted_1  .  metis_structure  .  mezzanine  .  mint  .  mirror  .  mirroring  .  mix  .  monitor  .  monster  .  monument  .  monument   .  mor  .  moscow  .  mother  .  mouth  .  muesum  .  narrow  .  nature  .  newsroom  .  niche  .  nomadic_space  .  normality  .  oculus  .  office  .  one_movie  .  oparea  .  openings  .  opera  .  opera_area  .  operating-room  .  optheosium  .  ornament  .  ornamentarium  .  outside  .  ouverture  .  painting  .  palace  .  palacesbath  .  palacescompartments  .  palacescover  .  palacescover2  .  palacescover3  .  palacesdelicacies  .  palacesface  .  palacesfashion  .  palacesfoyer  .  palacesgrotto  .  palaceshall  .  palaceslover  .  palacesobjects  .  palacesompartments  .  palacespaintings  .  palacesralationtoparis  .  palacesrelationtoparis  .  palacesrextures  .  palacesship  .  palacessuitcase  .  palacestextures  .  palacestower  .  pandora  .  pandora_bib  .  pandora_out  .  pantheon  .  parano  .  paris  .  parliament  .  party  .  passetto  .  passetto_mouth  .  patience  .  pattern  .  people mass  .  piano  .  pier  .  pink  .  planning  .  plastic  .  plate  .  playground  .  plaza  .  plenty  .  prison  .  procession  .  protest  .  rain  .  raining  .  rave  .  reception  .  recovery  .  red  .  resting  .  rich forest  .  ritual  .  rituals  .  rock  .  room  .  s  .  sacrifice  .  sad  .  salon  .  satin  .  scaffolding  .  scenario  .  science  .  screen  .  secret  .  seine  .  seinepanorama  .  senses  .  ser  .  server  .  shadow  .  shame  .  shape-of-water  .  shapes-of-water  .  sheep  .  shine  .  shining  .  ship  .  shopping mall  .  silhouette  .  site  .  sittinginbath  .  skull  .  sky  .  skyline  .  sleep  .  snow  .  snow   .  solar  .  sound  .  sounds_touching  .  sounds_watching  .  sparks  .  specatcle  .  speech  .  spiegelsaal  .  stage  .  stair  .  staircase  .  stairs  .  steam  .  steel structure  .  steps  .  stone  .  stones  .  strategeion  .  structure  .  studio  .  surrealism  .  surroundings  .  symmetry  .  synesthetic  .  table  .  taste_hearing  .  temperance  .  temple  .  tennis  .  tent  .  textile  .  texture  .  textures  .  the city  .  theater 1  .  theater1  .  theatre  .  this  .  throne  .  tiles  .  time_seeing  .  tomb  .  torch  .  tower  .  training_ground  .  transition  .  transparency  .  tree  .  treeandbalcony  .  trickster  .  underwater  .  university  .  violin  .  void  .  waiter  .  wallpaper  .  wasteland  .  water  .  waterdrop  .  waterfall  .  wave  .  white  .  white_space  .  wi  .  wild  .  window  .  windows  .  wine_glass  .  wittiness  .  woman  .  wtc  .  wunderkammer  .  yellow  .  "
     ]
    },
    {
     "data": {
      "application/vnd.jupyter.widget-view+json": {
       "model_id": "59c8450bedb944c2b2cf2f31eb8009d6",
       "version_major": 2,
       "version_minor": 0
      },
      "text/plain": [
       "Button(button_style='info', description='refresh tags', style=ButtonStyle(button_color='black'))"
      ]
     },
     "metadata": {},
     "output_type": "display_data"
    }
   ],
   "source": [
    "this_request = tag_http+'?action=GET_ALL_TAGS'\n",
    "r = requests.get(this_request).json()['body']\n",
    "for e in sorted(r):\n",
    "    print(e, end='  .  ')\n",
    "\n",
    "def get_tags(event):\n",
    "    clear_output()\n",
    "\n",
    "    this_request = tag_http+'?action=GET_ALL_TAGS'\n",
    "    r = requests.get(this_request).json()['body']\n",
    "    for e in sorted(r):\n",
    "        print(e, end='  .  ')\n",
    "    \n",
    "    display(refresh_tags_button)\n",
    "\n",
    "        \n",
    "refresh_tags_button = widgets.Button(description=\"refresh tags\", button_style='info')\n",
    "refresh_tags_button.style.button_color = button_color\n",
    "display(refresh_tags_button)\n",
    "refresh_tags_button.on_click(get_tags)"
   ]
  },
  {
   "cell_type": "markdown",
   "metadata": {},
   "source": [
    "### users index"
   ]
  },
  {
   "cell_type": "code",
   "execution_count": 18,
   "metadata": {},
   "outputs": [
    {
     "name": "stdout",
     "output_type": "stream",
     "text": [
      "3-2  .  Helia  .  Julie  .  Rachelle  .  archive  .  birk  .  circe  .  cowboy  .  dominic  .  eva  .  flavio  .  gaad  .  gsm  .  h  .  heldc  .  helia  .  hero  .  jb  .  jno  .  jorge  .  julie  .  julie   .  k  .  lah  .  laura  .  liquid  .  oliver  .  page  .  poureli  .  queenlizzy  .  sebastian  .  secret  .  sigi  .  slash  .  sophie  .  stan  .  toti  .  vampire  .  wayward  .  "
     ]
    },
    {
     "data": {
      "application/vnd.jupyter.widget-view+json": {
       "model_id": "bf01f49128ed4d408f323fd05f6239e1",
       "version_major": 2,
       "version_minor": 0
      },
      "text/plain": [
       "Button(button_style='info', description='refresh users', style=ButtonStyle(button_color='black'))"
      ]
     },
     "metadata": {},
     "output_type": "display_data"
    }
   ],
   "source": [
    "this_request = tag_http+'?action=GET_ALL_USERS'\n",
    "r = requests.get(this_request).json()['body']\n",
    "for e in sorted(r):\n",
    "    print(e, end='  .  ')\n",
    "\n",
    "def get_users(event):\n",
    "    clear_output()\n",
    "\n",
    "    this_request = tag_http+'?action=GET_ALL_USERS'\n",
    "    r = requests.get(this_request).json()['body']\n",
    "    for e in sorted(r):\n",
    "        print(e, end='  .  ')\n",
    "    \n",
    "    display(refresh_users_button)\n",
    "\n",
    "        \n",
    "refresh_users_button = widgets.Button(description=\"refresh users\", button_style='info')\n",
    "refresh_users_button.style.button_color = button_color\n",
    "display(refresh_users_button)\n",
    "refresh_users_button.on_click(get_users)"
   ]
  },
  {
   "cell_type": "markdown",
   "metadata": {},
   "source": [
    "### > type a tag and/or user"
   ]
  },
  {
   "cell_type": "code",
   "execution_count": 19,
   "metadata": {},
   "outputs": [
    {
     "data": {
      "application/vnd.jupyter.widget-view+json": {
       "model_id": "9d7923e222464796a995d14f67dc85d5",
       "version_major": 2,
       "version_minor": 0
      },
      "text/plain": [
       "interactive(children=(Text(value='', description='tag_search'), Output()), _dom_classes=('widget-interact',))"
      ]
     },
     "metadata": {},
     "output_type": "display_data"
    },
    {
     "data": {
      "application/vnd.jupyter.widget-view+json": {
       "model_id": "162ef19b36c245e5824ed898361054c1",
       "version_major": 2,
       "version_minor": 0
      },
      "text/plain": [
       "interactive(children=(Text(value='', description='user_search'), Output()), _dom_classes=('widget-interact',))"
      ]
     },
     "metadata": {},
     "output_type": "display_data"
    },
    {
     "data": {
      "application/vnd.jupyter.widget-view+json": {
       "model_id": "5e55d0bf42ee4ffbb7c5431199b0b2c7",
       "version_major": 2,
       "version_minor": 0
      },
      "text/plain": [
       "Button(button_style='info', description='search tag', style=ButtonStyle(button_color='black'))"
      ]
     },
     "metadata": {},
     "output_type": "display_data"
    }
   ],
   "source": [
    "# BOXES \n",
    "def getUserSearch(user_search):\n",
    "    return\n",
    "\n",
    "def getTagSearch(tag_search):\n",
    "    return\n",
    "\n",
    "w_user_search = interactive(getUserSearch, user_search='')\n",
    "w_tag_search = interactive(getTagSearch, tag_search='')\n",
    "\n",
    "# BUTTON\n",
    "def search_tag(event):\n",
    "    clear_output()\n",
    "    display(w_tag_search)\n",
    "    display(w_user_search)\n",
    "    display(search_tag_button)\n",
    "    \n",
    "    this_user = w_user_search.kwargs['user_search']\n",
    "    this_tag = w_tag_search.kwargs['tag_search']\n",
    "    \n",
    "    global my_frames_tag\n",
    "    if len(this_user) > 0 and len(this_tag) > 0:\n",
    "        this_request = tag_http+'?action=GET_FRAMES_USER_TAG&tag=%s&user=%s'%(this_tag,this_user)\n",
    "        my_frames_tag = requests.get(this_request).json()\n",
    "        this_length = len(my_frames_tag['body'])\n",
    "        print (this_length, 'images with this search')\n",
    "    elif len(this_user) > 0 and len(this_tag) == 0:\n",
    "        this_request = tag_http+'?action=GET_FRAMES_USER&user=%s'%(this_user)\n",
    "        my_frames_tag = requests.get(this_request).json()\n",
    "        this_length = len(my_frames_tag['body'])\n",
    "        print (this_length, 'images with this search')\n",
    "        this_tags = set([ f['tag'] for f in my_frames_tag['body'] ])\n",
    "        print (this_user, 'is talking about  .  ', end='')\n",
    "        for e in sorted(this_tags): print(e, end='  .  ')\n",
    "    elif len(this_user) == 0 and len(this_tag) > 0:\n",
    "        this_request = tag_http+'?action=GET_FRAMES_TAG&tag=%s'%(this_tag)\n",
    "        my_frames_tag = requests.get(this_request).json()\n",
    "        this_length = len(my_frames_tag['body'])\n",
    "        print (this_length, 'images with this search')\n",
    "        this_users = set([ f['user'] for f in my_frames_tag['body'] ])\n",
    "        print (this_tag, 'is talked about by  .  ', end='')\n",
    "        for e in sorted(this_users): print(e, end='  .  ')\n",
    "    else:\n",
    "        print ('type a user name and/or a tag')\n",
    "                \n",
    "    global my_globals_tag\n",
    "    my_globals_tag = {'plotted':[], 'w_buttons':[]}\n",
    "        \n",
    "search_tag_button = widgets.Button(description=\"search tag\", button_style='info')\n",
    "search_tag_button.style.button_color = button_color\n",
    "search_tag_button.on_click(search_tag)\n",
    "\n",
    "display(w_tag_search)\n",
    "display(w_user_search)\n",
    "display(search_tag_button)"
   ]
  },
  {
   "cell_type": "code",
   "execution_count": 20,
   "metadata": {},
   "outputs": [
    {
     "data": {
      "application/vnd.jupyter.widget-view+json": {
       "model_id": "1bc010aaf5af45a1a7c20fc94727681e",
       "version_major": 2,
       "version_minor": 0
      },
      "text/plain": [
       "Button(button_style='info', description='show', style=ButtonStyle(button_color='black'))"
      ]
     },
     "metadata": {},
     "output_type": "display_data"
    }
   ],
   "source": [
    "# PLOT RANDOM FRAMES \n",
    "def plot_frames_tags(event):\n",
    "    clear_output()\n",
    "    display(plot_button_tags)\n",
    "    \n",
    "    my_frames = my_frames_tag['body']\n",
    "    how_many = 16\n",
    "    plot_x, plot_y = 4,4\n",
    "\n",
    "    if len(my_frames) < how_many:\n",
    "        how_many = len(my_frames)\n",
    "\n",
    "    all_i = [ i for i in range(len(my_frames)) ]\n",
    "\n",
    "    import random\n",
    "    on_off = True\n",
    "    this_sample = []\n",
    "    while on_off:\n",
    "        if len(my_globals_tag['plotted']) == len(my_frames):\n",
    "            my_globals_tag['plotted'] = []\n",
    "            print(\"...you've seen it all\")\n",
    "        r = random.choice(all_i)\n",
    "        if r in my_globals_tag['plotted']:\n",
    "            pass\n",
    "        else:\n",
    "            this_sample.append(r)\n",
    "            my_globals_tag['plotted'].append(r)\n",
    "            if len(my_globals_tag['plotted']) == len(my_frames):\n",
    "                print('...last batch')\n",
    "                break\n",
    "        if len(this_sample) == how_many:\n",
    "            break\n",
    "\n",
    "    # OPEN IMAGES ------------------------------\n",
    "    import requests\n",
    "\n",
    "    s3BucketName = \"panoramas-of-cinema\"\n",
    "    region_name = 'eu-central-1'\n",
    "\n",
    "    i=0\n",
    "    frames_plot = []\n",
    "    for e in my_frames:\n",
    "        film = e['movie']\n",
    "        frame = e['frame']\n",
    "        if i in this_sample:\n",
    "            try:\n",
    "                objectKey = \"frames_db%s/by_scene_thumbnail%s\" % (film, frame)\n",
    "                this_frame = \"https://%s.s3.%s.amazonaws.com/%s\"%(s3BucketName,region_name,objectKey)\n",
    "                img = requests.get(this_frame).content          \n",
    "                frames_plot.append( (film, frame, img) )\n",
    "            except:\n",
    "                raise \n",
    "        i+=1\n",
    "\n",
    "    # PLOT ------------------------------\n",
    "    def on_button_clicked(event):\n",
    "        global movie_2p_tag, frame_2p_tag\n",
    "        global movie_2p, frame_2p\n",
    "        \n",
    "        this_button = id(event)\n",
    "        G = globals()\n",
    "        all_buttons = G['my_globals_tag']['w_buttons']\n",
    "        for i, b in enumerate(all_buttons):\n",
    "            this_id = id(b)\n",
    "            if this_button == this_id:\n",
    "                movie_2p_tag = my_globals_tag['w_buttons'][i].description\n",
    "                frame_2p_tag = my_globals_tag['w_buttons'][i].tooltip\n",
    "                movie_2p = my_globals_tag['w_buttons'][i].description\n",
    "                frame_2p = my_globals_tag['w_buttons'][i].tooltip\n",
    "                \n",
    "    print('...plotting %s images from %s'%(how_many, len(my_frames)))\n",
    "    from ipywidgets import Button, HBox, VBox\n",
    "    import ipywidgets as widgets\n",
    "\n",
    "    k = 0\n",
    "    movie_index, movie_names = 0, []\n",
    "    vboxes = []\n",
    "    for i in range(plot_x):\n",
    "        this_col = []\n",
    "        for j in range(plot_y):\n",
    "            if k < len(frames_plot):\n",
    "                try:\n",
    "                    image_w = widgets.Image(value=frames_plot[k][2], format='png', width=250) #height=400\n",
    "                    button = widgets.Button(description=frames_plot[k][0], tooltip=frames_plot[k][1])\n",
    "                    my_globals_tag['w_buttons'].append(button)\n",
    "\n",
    "                    button.on_click( on_button_clicked )\n",
    "\n",
    "                    this_box = [image_w, button]\n",
    "                    this_col = this_col+this_box\n",
    "\n",
    "                except:\n",
    "                    raise\n",
    "            k+=1\n",
    "\n",
    "        box = VBox( this_col )\n",
    "        vboxes.append(box)\n",
    "\n",
    "    display(HBox( vboxes ))\n",
    "    \n",
    "plot_button_tags = widgets.Button(description=\"show\", button_style='info')\n",
    "plot_button_tags.style.button_color = button_color\n",
    "display(plot_button_tags)\n",
    "plot_button_tags.on_click(plot_frames_tags)"
   ]
  },
  {
   "cell_type": "code",
   "execution_count": 21,
   "metadata": {},
   "outputs": [
    {
     "name": "stdout",
     "output_type": "stream",
     "text": [
      "\n",
      " \n",
      " \n",
      "\n"
     ]
    }
   ],
   "source": [
    "print('\\n', '\\n', '\\n')"
   ]
  },
  {
   "cell_type": "markdown",
   "metadata": {},
   "source": [
    "### DELETE"
   ]
  },
  {
   "cell_type": "markdown",
   "metadata": {},
   "source": [
    "### > click on an image"
   ]
  },
  {
   "cell_type": "code",
   "execution_count": 22,
   "metadata": {},
   "outputs": [
    {
     "data": {
      "application/vnd.jupyter.widget-view+json": {
       "model_id": "04a40f620a1a438abbb3ccd63e0ab06c",
       "version_major": 2,
       "version_minor": 0
      },
      "text/plain": [
       "Button(button_style='info', description='delete', style=ButtonStyle(button_color='black'))"
      ]
     },
     "metadata": {},
     "output_type": "display_data"
    }
   ],
   "source": [
    "def delete_tag(event):\n",
    "    clear_output()\n",
    "    display(delete_tag_button)\n",
    "        \n",
    "    this_user = w_user_search.kwargs['user_search']\n",
    "    this_tag = w_tag_search.kwargs['tag_search']\n",
    "    if len(this_user) > 0 and len(this_tag) > 0:\n",
    "        this_frame = '%s,%s'%(movie_2p_tag,frame_2p_tag)\n",
    "        this_request = tag_http+'?action=DELETE&tag=%s&user=%s&frame=%s'%(this_tag,this_user,this_frame)\n",
    "        r = requests.get(this_request).json()['statusCode']\n",
    "        if r == 200: print('tag deleted : %s %s'%(movie_2p_tag, frame_2p_tag))\n",
    "        else: print ('error %s'%r)\n",
    "    else:\n",
    "        print ('! user or tag is missing')\n",
    "\n",
    "    \n",
    "delete_tag_button = widgets.Button(description=\"delete\", button_style='info')\n",
    "delete_tag_button.style.button_color = button_color\n",
    "display(delete_tag_button)\n",
    "delete_tag_button.on_click(delete_tag)"
   ]
  },
  {
   "cell_type": "code",
   "execution_count": 23,
   "metadata": {},
   "outputs": [
    {
     "name": "stdout",
     "output_type": "stream",
     "text": [
      "\n",
      " \n",
      " \n",
      " \n",
      " \n",
      "\n"
     ]
    }
   ],
   "source": [
    "print('\\n', '\\n', '\\n', '\\n', '\\n')"
   ]
  },
  {
   "cell_type": "markdown",
   "metadata": {},
   "source": [
    "ETH Zurich &nbsp;&nbsp;&nbsp;&nbsp; Department of Architecture &nbsp;&nbsp;&nbsp;&nbsp; Chair for Digital Architectonics &nbsp;&nbsp;&nbsp;&nbsp; 2021"
   ]
  },
  {
   "cell_type": "code",
   "execution_count": null,
   "metadata": {},
   "outputs": [],
   "source": []
  }
 ],
 "metadata": {
  "kernelspec": {
   "display_name": "Python 3",
   "language": "python",
   "name": "python3"
  },
  "language_info": {
   "codemirror_mode": {
    "name": "ipython",
    "version": 3
   },
   "file_extension": ".py",
   "mimetype": "text/x-python",
   "name": "python",
   "nbconvert_exporter": "python",
   "pygments_lexer": "ipython3",
   "version": "3.7.6"
  }
 },
 "nbformat": 4,
 "nbformat_minor": 4
}
