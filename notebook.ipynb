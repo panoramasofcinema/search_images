{
 "cells": [
  {
   "cell_type": "code",
   "execution_count": 1,
   "metadata": {},
   "outputs": [
    {
     "data": {
      "text/html": [
       "<script>\n",
       "code_show=true; \n",
       "function code_toggle() {\n",
       " if (code_show){\n",
       " $('div.input').hide();\n",
       " } else {\n",
       " $('div.input').show();\n",
       " }\n",
       " code_show = !code_show\n",
       "} \n",
       "$( document ).ready(code_toggle);\n",
       "</script>\n",
       "<a href=\"javascript:code_toggle()\">^</a>"
      ],
      "text/plain": [
       "<IPython.core.display.HTML object>"
      ]
     },
     "metadata": {},
     "output_type": "display_data"
    },
    {
     "name": "stdout",
     "output_type": "stream",
     "text": [
      "\n"
     ]
    }
   ],
   "source": [
    "from IPython.display import HTML, display\n",
    "\n",
    "display(HTML('''<script>\n",
    "code_show=true; \n",
    "function code_toggle() {\n",
    " if (code_show){\n",
    " $('div.input').hide();\n",
    " } else {\n",
    " $('div.input').show();\n",
    " }\n",
    " code_show = !code_show\n",
    "} \n",
    "$( document ).ready(code_toggle);\n",
    "</script>\n",
    "<a href=\"javascript:code_toggle()\">^</a>'''))\n",
    "print('')"
   ]
  },
  {
   "cell_type": "markdown",
   "metadata": {},
   "source": [
    "#### PANORAMAS OF CINEMA online\n",
    "\n",
    "# // VIDEOTHEQUE SEARCH\n",
    "\n",
    "v0.03"
   ]
  },
  {
   "cell_type": "code",
   "execution_count": 2,
   "metadata": {
    "code_folding": []
   },
   "outputs": [
    {
     "name": "stdout",
     "output_type": "stream",
     "text": [
      "\n"
     ]
    }
   ],
   "source": [
    "# REQUEST INDEXES\n",
    "import requests\n",
    "r = requests.get(\"https://panoramas-of-cinema.s3.eu-central-1.amazonaws.com/indexes/videotheques_inv.json\")\n",
    "query_response = r.json()\n",
    "button_color = 'black' # #7d1b27 darkRed\n",
    "print('')"
   ]
  },
  {
   "cell_type": "markdown",
   "metadata": {},
   "source": [
    "## IMAGE SEARCH"
   ]
  },
  {
   "cell_type": "markdown",
   "metadata": {},
   "source": [
    "### places index"
   ]
  },
  {
   "cell_type": "code",
   "execution_count": 3,
   "metadata": {
    "code_folding": [],
    "scrolled": false
   },
   "outputs": [
    {
     "name": "stdout",
     "output_type": "stream",
     "text": [
      "airfield  .  airplane_cabin  .  airport_terminal  .  alcove  .  alley  .  amphitheater  .  amusement_arcade  .  amusement_park  .  apartment_building_outdoor  .  aquarium  .  aqueduct  .  arcade  .  arch  .  archaelogical_excavation  .  archive  .  arena_hockey  .  arena_performance  .  arena_rodeo  .  army_base  .  art_gallery  .  art_school  .  art_studio  .  artists_loft  .  assembly_line  .  athletic_field_outdoor  .  atrium_public  .  attic  .  auditorium  .  auto_factory  .  auto_showroom  .  badlands  .  bakery_shop  .  balcony_exterior  .  balcony_interior  .  ball_pit  .  ballroom  .  bamboo_forest  .  bank_vault  .  banquet_hall  .  bar  .  barn  .  barndoor  .  baseball_field  .  basement  .  basketball_court_indoor  .  bathroom  .  bazaar_indoor  .  bazaar_outdoor  .  beach  .  beach_house  .  beauty_salon  .  bedchamber  .  bedroom  .  beer_garden  .  beer_hall  .  berth  .  biology_laboratory  .  boardwalk  .  boat_deck  .  boathouse  .  bookstore  .  booth_indoor  .  botanical_garden  .  bow_window_indoor  .  bowling_alley  .  boxing_ring  .  bridge  .  bullring  .  burial_chamber  .  bus_interior  .  bus_station_indoor  .  butchers_shop  .  butte  .  cabin_outdoor  .  cafeteria  .  campsite  .  campus  .  canal_natural  .  canal_urban  .  candy_store  .  canyon  .  car_interior  .  carrousel  .  castle  .  catacomb  .  cemetery  .  chalet  .  chemistry_lab  .  childs_room  .  church_indoor  .  church_outdoor  .  classroom  .  clean_room  .  cliff  .  closet  .  clothing_store  .  cockpit  .  coffee_shop  .  computer_room  .  conference_center  .  conference_room  .  construction_site  .  corn_field  .  corral  .  corridor  .  cottage  .  courthouse  .  courtyard  .  creek  .  crevasse  .  crosswalk  .  dam  .  delicatessen  .  department_store  .  desert_road  .  desert_sand  .  desert_vegetation  .  diner_outdoor  .  dining_hall  .  dining_room  .  discotheque  .  doorway_outdoor  .  dorm_room  .  downtown  .  dressing_room  .  driveway  .  drugstore  .  elevator_door  .  elevator_lobby  .  elevator_shaft  .  embassy  .  engine_room  .  entrance_hall  .  escalator_indoor  .  excavation  .  fabric_store  .  farm  .  fastfood_restaurant  .  field_cultivated  .  field_road  .  field_wild  .  fire_escape  .  fire_station  .  fishpond  .  flea_market_indoor  .  florist_shop_indoor  .  food_court  .  football_field  .  forest_broadleaf  .  forest_path  .  forest_road  .  formal_garden  .  fountain  .  galley  .  garage_indoor  .  garage_outdoor  .  gas_station  .  gazebo_exterior  .  general_store_indoor  .  general_store_outdoor  .  gift_shop  .  glacier  .  golf_course  .  greenhouse_indoor  .  greenhouse_outdoor  .  grotto  .  gymnasium_indoor  .  hangar_indoor  .  hangar_outdoor  .  harbor  .  hardware_store  .  hayfield  .  heliport  .  highway  .  home_office  .  home_theater  .  hospital  .  hospital_room  .  hot_spring  .  hotel_outdoor  .  hotel_room  .  house  .  hunting_lodge_outdoor  .  ice_cream_parlor  .  ice_floe  .  ice_shelf  .  ice_skating_rink_indoor  .  ice_skating_rink_outdoor  .  iceberg  .  igloo  .  industrial_area  .  inn_outdoor  .  islet  .  jacuzzi_indoor  .  jail_cell  .  japanese_garden  .  jewelry_shop  .  junkyard  .  kasbah  .  kennel_outdoor  .  kindergarden_classroom  .  kitchen  .  lagoon  .  lake_natural  .  landfill  .  landing_deck  .  laundromat  .  lawn  .  lecture_room  .  legislative_chamber  .  library_indoor  .  library_outdoor  .  lighthouse  .  living_room  .  loading_dock  .  lobby  .  lock_chamber  .  locker_room  .  mansion  .  manufactured_home  .  market_indoor  .  market_outdoor  .  marsh  .  martial_arts_gym  .  mausoleum  .  medina  .  mezzanine  .  moat_water  .  mosque_outdoor  .  motel  .  mountain  .  mountain_path  .  mountain_snowy  .  movie_theater_indoor  .  museum_indoor  .  museum_outdoor  .  music_studio  .  natural_history_museum  .  nursery  .  nursing_home  .  oast_house  .  ocean  .  office  .  office_building  .  office_cubicles  .  oilrig  .  operating_room  .  orchard  .  orchestra_pit  .  pagoda  .  palace  .  pantry  .  park  .  parking_garage_indoor  .  parking_garage_outdoor  .  parking_lot  .  pasture  .  patio  .  pavilion  .  pet_shop  .  pharmacy  .  phone_booth  .  physics_laboratory  .  picnic_area  .  pier  .  pizzeria  .  playground  .  playroom  .  plaza  .  pond  .  porch  .  promenade  .  pub_indoor  .  racecourse  .  raceway  .  raft  .  railroad_track  .  rainforest  .  reception  .  recreation_room  .  repair_shop  .  residential_neighborhood  .  restaurant  .  restaurant_kitchen  .  restaurant_patio  .  rice_paddy  .  river  .  rock_arch  .  roof_garden  .  rope_bridge  .  ruin  .  runway  .  sandbox  .  sauna  .  schoolhouse  .  science_museum  .  server_room  .  shed  .  shoe_shop  .  shopfront  .  shopping_mall_indoor  .  shower  .  ski_resort  .  ski_slope  .  sky  .  skyscraper  .  slum  .  snowfield  .  soccer_field  .  stable  .  stadium_baseball  .  stadium_football  .  stadium_soccer  .  stage_indoor  .  stage_outdoor  .  staircase  .  storage_room  .  street  .  subway_station_platform  .  supermarket  .  sushi_bar  .  swamp  .  swimming_hole  .  swimming_pool_indoor  .  swimming_pool_outdoor  .  synagogue_outdoor  .  television_room  .  television_studio  .  temple_asia  .  throne_room  .  ticket_booth  .  topiary_garden  .  tower  .  toyshop  .  train_interior  .  train_station_platform  .  tree_farm  .  tree_house  .  trench  .  tundra  .  underwater_ocean_deep  .  utility_room  .  valley  .  vegetable_garden  .  veterinarians_office  .  viaduct  .  village  .  vineyard  .  volcano  .  volleyball_court_outdoor  .  waiting_room  .  water_park  .  water_tower  .  waterfall  .  watering_hole  .  wave  .  wet_bar  .  wheat_field  .  wind_farm  .  windmill  .  yard  .  youth_hostel  .  zen_garden  .  "
     ]
    }
   ],
   "source": [
    "# SHOW INDEXES \n",
    "for e in sorted(query_response['places']):\n",
    "    print(e, end='  .  ')"
   ]
  },
  {
   "cell_type": "markdown",
   "metadata": {},
   "source": [
    "### objects index"
   ]
  },
  {
   "cell_type": "code",
   "execution_count": 4,
   "metadata": {
    "code_folding": []
   },
   "outputs": [
    {
     "name": "stdout",
     "output_type": "stream",
     "text": [
      "aeroplane  .  apple  .  backpack  .  banana  .  baseball_bat  .  baseball_glove  .  bear  .  bed  .  bench  .  bicycle  .  bird  .  boat  .  book  .  bottle  .  bowl  .  broccoli  .  bus  .  cake  .  car  .  carrot  .  cat  .  cell_phone  .  chair  .  clock  .  cow  .  cup  .  diningtable  .  dog  .  donut  .  elephant  .  fire_hydrant  .  fork  .  frisbee  .  giraffe  .  hair_drier  .  handbag  .  horse  .  hot_dog  .  keyboard  .  kite  .  knife  .  laptop  .  microwave  .  motorbike  .  mouse  .  orange  .  oven  .  parking_meter  .  person  .  pizza  .  pottedplant  .  refrigerator  .  remote  .  sandwich  .  scissors  .  sheep  .  sink  .  skateboard  .  skis  .  snowboard  .  sofa  .  spoon  .  sports_ball  .  stop_sign  .  suitcase  .  surfboard  .  teddy_bear  .  tennis_racket  .  tie  .  toilet  .  toothbrush  .  traffic_light  .  train  .  truck  .  tvmonitor  .  umbrella  .  vase  .  wine_glass  .  zebra  .  "
     ]
    }
   ],
   "source": [
    "# SHOW INDEXES \n",
    "for e in sorted(query_response['objects']):\n",
    "    print(e, end='  .  ')"
   ]
  },
  {
   "cell_type": "markdown",
   "metadata": {},
   "source": [
    "### > type the indexes and tune the confidences"
   ]
  },
  {
   "cell_type": "code",
   "execution_count": 5,
   "metadata": {},
   "outputs": [
    {
     "data": {
      "application/vnd.jupyter.widget-view+json": {
       "model_id": "93758d70cacf48a1ab9f1de215a4eb57",
       "version_major": 2,
       "version_minor": 0
      },
      "text/plain": [
       "interactive(children=(Text(value='', description='place'), SelectionRangeSlider(description='confidence', inde…"
      ]
     },
     "metadata": {},
     "output_type": "display_data"
    },
    {
     "data": {
      "application/vnd.jupyter.widget-view+json": {
       "model_id": "7dd561b7706e4c268f10315ebdd8be96",
       "version_major": 2,
       "version_minor": 0
      },
      "text/plain": [
       "interactive(children=(Text(value='', description='obj'), SelectionRangeSlider(description='confidence', index=…"
      ]
     },
     "metadata": {},
     "output_type": "display_data"
    }
   ],
   "source": [
    "# DISPLAY WIDGETS \n",
    "from IPython.display import display, clear_output\n",
    "from ipywidgets import interactive, interact\n",
    "import ipywidgets as widgets\n",
    "\n",
    "options = []\n",
    "s=0.01\n",
    "for i in range(100):\n",
    "    options.append(\"%.2f\"%s)\n",
    "    s+=.01\n",
    "\n",
    "def p(place, confidence):\n",
    "    return\n",
    "\n",
    "def o(obj, confidence):\n",
    "    return\n",
    "\n",
    "w_places = interactive(p, place='',\n",
    "                       confidence = widgets.SelectionRangeSlider(options=options, index=(0,99), description='confidence') )\n",
    "\n",
    "w_objects = interactive(o, obj='',\n",
    "                        confidence = widgets.SelectionRangeSlider(options=options, index=(0,99), description='confidence') )\n",
    "\n",
    "\n",
    "display(w_places)\n",
    "display(w_objects)"
   ]
  },
  {
   "cell_type": "markdown",
   "metadata": {},
   "source": [
    "### > select the faces"
   ]
  },
  {
   "cell_type": "code",
   "execution_count": 6,
   "metadata": {},
   "outputs": [
    {
     "data": {
      "application/vnd.jupyter.widget-view+json": {
       "model_id": "16dcbc7de72044398d9fc35ef45bddc3",
       "version_major": 2,
       "version_minor": 0
      },
      "text/plain": [
       "interactive(children=(Checkbox(value=True, description='no_faces'), Checkbox(value=True, description='yes_face…"
      ]
     },
     "metadata": {},
     "output_type": "display_data"
    }
   ],
   "source": [
    "def f(no_faces, yes_faces):\n",
    "    return\n",
    "w_faces = interactive(f, no_faces=True, yes_faces=True)\n",
    "display(w_faces)"
   ]
  },
  {
   "cell_type": "code",
   "execution_count": 7,
   "metadata": {
    "code_folding": []
   },
   "outputs": [
    {
     "data": {
      "application/vnd.jupyter.widget-view+json": {
       "model_id": "afc349c4870d47efa3081efcf90aecb8",
       "version_major": 2,
       "version_minor": 0
      },
      "text/plain": [
       "Button(button_style='info', description='search', style=ButtonStyle(button_color='black'))"
      ]
     },
     "metadata": {},
     "output_type": "display_data"
    }
   ],
   "source": [
    "# REFRESH QUERY\n",
    "def refresh_query(event):\n",
    "    clear_output()\n",
    "    display(refresh_button)\n",
    "    \n",
    "    place = w_places.kwargs['place']\n",
    "    #place_conf = \"%s,%s\"%(w_places.kwargs['min_conf'],w_places.kwargs['max_conf'])\n",
    "    place_conf = \"%s,%s\"%(w_places.kwargs['confidence'])\n",
    "\n",
    "    obj = w_objects.kwargs['obj']\n",
    "    #obj_conf = \"%s,%s\"%(w_objects.kwargs['min_conf'],w_objects.kwargs['max_conf'])\n",
    "    obj_conf = \"%s,%s\"%(w_objects.kwargs['confidence'])\n",
    "\n",
    "    faces = str()\n",
    "    if w_faces.kwargs['no_faces']:\n",
    "        faces = faces+'no_faces'\n",
    "    if w_faces.kwargs['yes_faces']:\n",
    "        if len(faces) > 0:\n",
    "            faces = faces+',small_faces'\n",
    "        else:\n",
    "            faces = faces+'small_faces'\n",
    "\n",
    "    # \n",
    "    this_query = 'http://pocquery-env.eba-ap3n3cr3.eu-central-1.elasticbeanstalk.com/query?'\n",
    "    if place: this_query = this_query+'places=%s,%s'%(place,place_conf)\n",
    "    if faces: this_query = this_query+'&faces=%s'%faces\n",
    "    if obj: this_query = this_query+'&objects=%s,%s'%(obj,obj_conf)\n",
    "    \n",
    "    global my_frames\n",
    "    my_frames = requests.get(this_query).json()['response']\n",
    "    print (len(my_frames), 'images with this search') # this_query[73:]\n",
    "    \n",
    "    global my_globals\n",
    "    my_globals = {'plotted':[], 'w_buttons':[]}\n",
    "\n",
    "                    \n",
    "refresh_button = widgets.Button(description=\"search\", button_style='info')\n",
    "refresh_button.style.button_color = button_color\n",
    "display(refresh_button)\n",
    "refresh_button.on_click(refresh_query)"
   ]
  },
  {
   "cell_type": "code",
   "execution_count": 8,
   "metadata": {
    "code_folding": []
   },
   "outputs": [
    {
     "data": {
      "application/vnd.jupyter.widget-view+json": {
       "model_id": "d87bcbaf055341118117d73fddbb1752",
       "version_major": 2,
       "version_minor": 0
      },
      "text/plain": [
       "Button(button_style='info', description='show', style=ButtonStyle(button_color='black'))"
      ]
     },
     "metadata": {},
     "output_type": "display_data"
    }
   ],
   "source": [
    "# PLOT RANDOM FRAMES\n",
    "def plot_frames(event):\n",
    "    clear_output()\n",
    "    display(plot_button)\n",
    "    \n",
    "    how_many = 16\n",
    "    plot_x, plot_y = 4,4\n",
    "\n",
    "    if len(my_frames) < how_many:\n",
    "        how_many = len(my_frames)\n",
    "\n",
    "    all_i = [ i for i in range(len(my_frames)) ]\n",
    "\n",
    "    import random\n",
    "    on_off = True\n",
    "    this_sample = []\n",
    "    while on_off:\n",
    "        if len(my_globals['plotted']) == len(my_frames):\n",
    "            my_globals['plotted'] = []\n",
    "            print(\"...you've seen it all\")\n",
    "        r = random.choice(all_i)\n",
    "        if r in my_globals['plotted']:\n",
    "            pass\n",
    "        else:\n",
    "            this_sample.append(r)\n",
    "            my_globals['plotted'].append(r)\n",
    "            if len(my_globals['plotted']) == len(my_frames):\n",
    "                print('...last batch')\n",
    "                break\n",
    "        if len(this_sample) == how_many:\n",
    "            break\n",
    "\n",
    "    # OPEN IMAGES ------------------------------\n",
    "    import requests\n",
    "    s3BucketName = \"panoramas-of-cinema\"\n",
    "    region_name = 'eu-central-1'\n",
    "\n",
    "    i=0\n",
    "    frames_plot = []\n",
    "    for e in my_frames:\n",
    "        film = e['movieId']\n",
    "        frame = e['frameId']\n",
    "        if i in this_sample:\n",
    "            try:\n",
    "                objectKey = \"frames_db%s/by_scene_thumbnail%s\" % (film, frame)\n",
    "                this_frame = \"https://%s.s3.%s.amazonaws.com/%s\"%(s3BucketName,region_name,objectKey)\n",
    "                img = requests.get(this_frame).content          \n",
    "                frames_plot.append( (film, frame, img) )\n",
    "            except:\n",
    "                raise \n",
    "        i+=1\n",
    "\n",
    "    # PLOT ------------------------------\n",
    "    def on_button_clicked(event):\n",
    "        global movie_2p\n",
    "        global frame_2p\n",
    "        this_button = id(event)\n",
    "        G = globals()\n",
    "        all_buttons = G['my_globals']['w_buttons']\n",
    "        for i, b in enumerate(all_buttons):\n",
    "            this_id = id(b)\n",
    "            if this_button == this_id:\n",
    "                movie_2p = my_globals['w_buttons'][i].description\n",
    "                frame_2p = my_globals['w_buttons'][i].tooltip\n",
    "\n",
    "    print('...plotting %s images from %s'%(how_many, len(my_frames)))\n",
    "    from ipywidgets import Button, HBox, VBox\n",
    "    import ipywidgets as widgets\n",
    "\n",
    "    k = 0\n",
    "    movie_index, movie_names = 0, []\n",
    "    vboxes = []\n",
    "    for i in range(plot_x):\n",
    "        this_col = []\n",
    "        for j in range(plot_y):\n",
    "            if k < len(frames_plot):\n",
    "                try:\n",
    "                    image_w = widgets.Image(value=frames_plot[k][2], format='png', width=250) #height=400\n",
    "                    button = widgets.Button(description=frames_plot[k][0], tooltip=frames_plot[k][1])\n",
    "                    my_globals['w_buttons'].append(button)\n",
    "\n",
    "                    button.on_click( on_button_clicked )\n",
    "\n",
    "                    this_box = [image_w, button]\n",
    "                    this_col = this_col+this_box\n",
    "\n",
    "                except:\n",
    "                    raise\n",
    "            k+=1\n",
    "\n",
    "        box = VBox( this_col )\n",
    "        vboxes.append(box)\n",
    "\n",
    "    display(HBox( vboxes ))\n",
    "    \n",
    "plot_button = widgets.Button(description=\"show\", button_style='info')\n",
    "plot_button.style.button_color = button_color\n",
    "display(plot_button)\n",
    "plot_button.on_click(plot_frames)"
   ]
  },
  {
   "cell_type": "code",
   "execution_count": 9,
   "metadata": {},
   "outputs": [
    {
     "name": "stdout",
     "output_type": "stream",
     "text": [
      "\n",
      " \n",
      " \n",
      " \n",
      " \n",
      "\n"
     ]
    }
   ],
   "source": [
    "print('\\n', '\\n', '\\n', '\\n', '\\n')"
   ]
  },
  {
   "cell_type": "markdown",
   "metadata": {},
   "source": [
    "## HQ IMAGE"
   ]
  },
  {
   "cell_type": "markdown",
   "metadata": {},
   "source": [
    "### > click on an image"
   ]
  },
  {
   "cell_type": "code",
   "execution_count": 10,
   "metadata": {},
   "outputs": [
    {
     "data": {
      "application/vnd.jupyter.widget-view+json": {
       "model_id": "69dae23aa1104b569652c9f828692858",
       "version_major": 2,
       "version_minor": 0
      },
      "text/plain": [
       "Button(button_style='info', description='hq image', style=ButtonStyle(button_color='black'))"
      ]
     },
     "metadata": {},
     "output_type": "display_data"
    }
   ],
   "source": [
    "from IPython.display import Image, display\n",
    "\n",
    "def get_hq_image(event):\n",
    "    clear_output()\n",
    "    display(hq_image_button)\n",
    "    \n",
    "    objectKey = \"frames_db%s/by_scene%s\" % (movie_2p, frame_2p)\n",
    "    display(Image(url='https://panoramas-of-cinema.s3.eu-central-1.amazonaws.com/%s'%objectKey, width=450))\n",
    "    print('%s%s'%(movie_2p[1:],frame_2p[6:-4]))\n",
    "    \n",
    "hq_image_button = widgets.Button(description=\"hq image\", button_style='info')\n",
    "hq_image_button.style.button_color = button_color\n",
    "display(hq_image_button)\n",
    "hq_image_button.on_click(get_hq_image)"
   ]
  },
  {
   "cell_type": "code",
   "execution_count": 11,
   "metadata": {},
   "outputs": [
    {
     "name": "stdout",
     "output_type": "stream",
     "text": [
      "\n",
      " \n",
      " \n",
      " \n",
      " \n",
      "\n"
     ]
    }
   ],
   "source": [
    "print('\\n', '\\n', '\\n', '\\n', '\\n')"
   ]
  },
  {
   "cell_type": "markdown",
   "metadata": {},
   "source": [
    "## PLAY A CLIP"
   ]
  },
  {
   "cell_type": "markdown",
   "metadata": {},
   "source": [
    "### > click on an image"
   ]
  },
  {
   "cell_type": "code",
   "execution_count": 12,
   "metadata": {},
   "outputs": [
    {
     "data": {
      "application/vnd.jupyter.widget-view+json": {
       "model_id": "2d836c154ad94de482dd8ba060b971b2",
       "version_major": 2,
       "version_minor": 0
      },
      "text/plain": [
       "HBox(children=(Button(button_style='info', description='<<<', style=ButtonStyle(button_color='black')), Button…"
      ]
     },
     "metadata": {},
     "output_type": "display_data"
    }
   ],
   "source": [
    "# PLAY THE CLIP \n",
    "def play_clip(event):\n",
    "    clear_output()\n",
    "    display(ui1)\n",
    "\n",
    "    global r\n",
    "    clip_query = 'http://pocgetclip-env.eba-4phq6b4m.eu-central-1.elasticbeanstalk.com/clip?movie=%s&frame=%s'%(movie_2p[1:],frame_2p[7:-4])\n",
    "    r = requests.get(clip_query).json()\n",
    "\n",
    "    from IPython.display import Video\n",
    "    display(Video(r['play'], height=300, html_attributes=\"controls autoplay\"))\n",
    "    print('%s%s'%(movie_2p[1:],frame_2p[6:-4]))\n",
    "    \n",
    "def play_before(event):\n",
    "    clear_output()\n",
    "    display(ui1)\n",
    "    \n",
    "    from IPython.display import Video\n",
    "    display(Video(r['before'], height=300, html_attributes=\"controls autoplay\"))\n",
    "    this_f = r['before'].find('frame-')\n",
    "    print('%s%s'%(movie_2p[1:],r['before'][(this_f)+5:-4]))\n",
    "    \n",
    "def play_after(event):\n",
    "    clear_output()\n",
    "    display(ui1)\n",
    "    \n",
    "    from IPython.display import Video\n",
    "    display(Video(r['after'], height=300, html_attributes=\"controls autoplay\"))\n",
    "    this_f = r['after'].find('frame-')\n",
    "    print('%s%s'%(movie_2p[1:],r['after'][(this_f)+5:-4]))\n",
    "    \n",
    "# buttons box\n",
    "play_button = widgets.Button(description=\"play\", button_style='info')\n",
    "play_button.style.button_color = button_color\n",
    "playB_button = widgets.Button(description=\"<<<\", button_style='info')\n",
    "playB_button.style.button_color = button_color\n",
    "playA_button = widgets.Button(description=\">>>\", button_style='info')\n",
    "playA_button.style.button_color = button_color\n",
    "ui1 = widgets.HBox([playB_button, play_button, playA_button])\n",
    "display(ui1)\n",
    "\n",
    "\n",
    "play_button.on_click(play_clip)\n",
    "playB_button.on_click(play_before)\n",
    "playA_button.on_click(play_after)"
   ]
  },
  {
   "cell_type": "markdown",
   "metadata": {},
   "source": [
    "<p style=\"text-align:right;\">no sound ? try Safari ))</p>"
   ]
  },
  {
   "cell_type": "code",
   "execution_count": 13,
   "metadata": {},
   "outputs": [
    {
     "name": "stdout",
     "output_type": "stream",
     "text": [
      "\n",
      " \n",
      " \n",
      " \n",
      " \n",
      "\n"
     ]
    }
   ],
   "source": [
    "print('\\n', '\\n', '\\n', '\\n', '\\n')"
   ]
  },
  {
   "cell_type": "markdown",
   "metadata": {},
   "source": [
    "## TEXT SEARCH"
   ]
  },
  {
   "cell_type": "markdown",
   "metadata": {},
   "source": [
    "### > type your query"
   ]
  },
  {
   "cell_type": "code",
   "execution_count": 14,
   "metadata": {},
   "outputs": [
    {
     "data": {
      "application/vnd.jupyter.widget-view+json": {
       "model_id": "cd4cf13302d0425fadad4167617b4cb4",
       "version_major": 2,
       "version_minor": 0
      },
      "text/plain": [
       "VBox(children=(Text(value='the hacienda', description='text', placeholder=''), SelectionRangeSlider(descriptio…"
      ]
     },
     "metadata": {},
     "output_type": "display_data"
    }
   ],
   "source": [
    "# DISPLAY WIDGETS \n",
    "from IPython.display import display, clear_output\n",
    "from ipywidgets import interactive, interact, interactive_output\n",
    "import ipywidgets as widgets\n",
    "\n",
    "options = []\n",
    "s=0.01\n",
    "for i in range(100):\n",
    "    options.append(\"%.2f\"%s)\n",
    "    s+=.01\n",
    "\n",
    "text_q = widgets.Text(value='the hacienda', placeholder='', description='text')\n",
    "confidence = widgets.SelectionRangeSlider(options=options, index=(0,99), description='confidence')\n",
    "cat = widgets.Dropdown(options=[('videotheque', 0),\n",
    "                                ('solaris mon amour', 1),\n",
    "                                ('equilibrium of an oldboy', 2),\n",
    "                                ('the 400 children of la haine', 3),\n",
    "                                ('y tu mama tambien departed', 4)],\n",
    "                                value=0, description='category')\n",
    "max_results_q = widgets.Text(value='10', placeholder='', description='max results')\n",
    "hlink = widgets.HTML(description='', value=\"&nbsp;&nbsp;&nbsp;&nbsp; <a target='_blank' href='https://panoramas-of-cinema.s3.eu-central-1.amazonaws.com/indexes/categories.txt'>></a>\", placeholder='')\n",
    "uiH = widgets.HBox([cat, hlink])\n",
    "uiV = widgets.VBox([text_q, confidence, uiH, max_results_q])\n",
    "\n",
    "display(uiV)\n",
    "\n"
   ]
  },
  {
   "cell_type": "code",
   "execution_count": 15,
   "metadata": {},
   "outputs": [
    {
     "data": {
      "application/vnd.jupyter.widget-view+json": {
       "model_id": "1672fc83dbe241529e67136320a37bb1",
       "version_major": 2,
       "version_minor": 0
      },
      "text/plain": [
       "Button(button_style='info', description='search', style=ButtonStyle(button_color='black'))"
      ]
     },
     "metadata": {},
     "output_type": "display_data"
    }
   ],
   "source": [
    "# REFRESH QUERY\n",
    "import requests, ast\n",
    "\n",
    "def format_text(query):\n",
    "    this_query = query.replace(' ', '%20')\n",
    "    return this_query\n",
    "    \n",
    "def refresh_query(event):\n",
    "    clear_output()\n",
    "    display(search_button)\n",
    "    \n",
    "    text = format_text(text_q.value)\n",
    "    confX = confidence.value[0]\n",
    "    confY = confidence.value[1]\n",
    "    max_results = max_results_q.value\n",
    "    this_cat = cat.value\n",
    "\n",
    "    #\n",
    "    app_http = 'http://ec2-3-127-150-33.eu-central-1.compute.amazonaws.com'\n",
    "    this_query = app_http+'/subs?'\n",
    "    if text: this_query = this_query+'text=%s&confidence_min=%s&confidence_max=%s&category=%s'%(text,confX,confY,this_cat)\n",
    "    if max_results: this_query = this_query+'&maxResults=%s'%max_results\n",
    "    #print(this_query)\n",
    "    \n",
    "    #global my_text\n",
    "    this_r = requests.get(this_query).text\n",
    "    my_text = ast.literal_eval(this_r)['body']    \n",
    "    if len(my_text) == 0:\n",
    "        print ('nothing here')\n",
    "        return \n",
    "    \n",
    "    # BUTTON EVENT ------------------------------\n",
    "    def on_button_clicked(event):\n",
    "        global movie_2p\n",
    "        global frame_2p\n",
    "        this_button = id(event)\n",
    "        for i, b in enumerate(buttons_text):\n",
    "            this_id = id(b)\n",
    "            if this_button == this_id:\n",
    "                movie_2p = buttons_text[i].description\n",
    "                frame_2p = '/frame-%06d.jpg'%float(buttons_text[i].tooltip)\n",
    "        \n",
    "    # DISPLAY THE RESULTS ------------------------------\n",
    "    from ipywidgets import VBox, Label, Button\n",
    "    \n",
    "    # formatting\n",
    "    texts_results = []\n",
    "    for movie, timestamp, prev, this, nex in my_text:\n",
    "        this_text = prev+' '+this+' '+nex\n",
    "        texts_results+=[this_text]\n",
    "        \n",
    "    # widgets\n",
    "    global buttons_text\n",
    "    buttons_text = []\n",
    "    \n",
    "    items = []\n",
    "    for i, t in enumerate(texts_results):\n",
    "        button = Button(description=my_text[i][0], tooltip=str(my_text[i][1]))\n",
    "        buttons_text.append(button)\n",
    "        button.on_click( on_button_clicked )\n",
    "        \n",
    "        items.append(Label(' '))\n",
    "        items.append(Label(t.lower()))\n",
    "        hlink = widgets.HTML(description='', value=\"&nbsp;&nbsp;&nbsp;&nbsp; <a target='_blank' href='https://panoramas-of-cinema.s3.eu-central-1.amazonaws.com/subtitles_db%s/subs.txt'>></a>\"%my_text[i][0], placeholder='')\n",
    "        uiH = widgets.HBox([button, hlink])\n",
    "        items.append(uiH)\n",
    "            \n",
    "    display( VBox(items) )\n",
    "\n",
    "                    \n",
    "search_button = widgets.Button(description=\"search\", button_style='info')\n",
    "search_button.style.button_color = button_color\n",
    "display(search_button)\n",
    "search_button.on_click(refresh_query)"
   ]
  },
  {
   "cell_type": "code",
   "execution_count": 16,
   "metadata": {},
   "outputs": [
    {
     "name": "stdout",
     "output_type": "stream",
     "text": [
      "\n",
      " \n",
      " \n",
      " \n",
      " \n",
      "\n"
     ]
    }
   ],
   "source": [
    "print('\\n', '\\n', '\\n', '\\n', '\\n')"
   ]
  },
  {
   "cell_type": "markdown",
   "metadata": {},
   "source": [
    "## YOUR TAGS"
   ]
  },
  {
   "cell_type": "markdown",
   "metadata": {},
   "source": [
    "### ADD"
   ]
  },
  {
   "cell_type": "markdown",
   "metadata": {},
   "source": [
    "### > click on an image. type its tag and your user name"
   ]
  },
  {
   "cell_type": "code",
   "execution_count": 17,
   "metadata": {},
   "outputs": [
    {
     "data": {
      "application/vnd.jupyter.widget-view+json": {
       "model_id": "ed677ff2a6d44f169158b55ef362dc18",
       "version_major": 2,
       "version_minor": 0
      },
      "text/plain": [
       "interactive(children=(Text(value='', description='tag'), Output()), _dom_classes=('widget-interact',))"
      ]
     },
     "metadata": {},
     "output_type": "display_data"
    },
    {
     "data": {
      "application/vnd.jupyter.widget-view+json": {
       "model_id": "896ec136b54b45c793106ee72b36e4f1",
       "version_major": 2,
       "version_minor": 0
      },
      "text/plain": [
       "interactive(children=(Text(value='', description='user'), Output()), _dom_classes=('widget-interact',))"
      ]
     },
     "metadata": {},
     "output_type": "display_data"
    },
    {
     "data": {
      "application/vnd.jupyter.widget-view+json": {
       "model_id": "ccf1a7c4d6b74e73acd6e77d89e58cdb",
       "version_major": 2,
       "version_minor": 0
      },
      "text/plain": [
       "Button(button_style='info', description='add tag', style=ButtonStyle(button_color='black'))"
      ]
     },
     "metadata": {},
     "output_type": "display_data"
    }
   ],
   "source": [
    "tag_http = 'http://poctag-env.eba-vjpstfpz.eu-central-1.elasticbeanstalk.com/tags'\n",
    "\n",
    "# DISPLAY WIDGETS \n",
    "def getUser(user):\n",
    "    return\n",
    "\n",
    "def getTag(tag):\n",
    "    return\n",
    "\n",
    "w_user = interactive(getUser, user='')\n",
    "w_tag = interactive(getTag, tag='')\n",
    "\n",
    "# REFRESH QUERY\n",
    "def add_tag(event):\n",
    "    clear_output()\n",
    "    display(w_tag)\n",
    "    display(w_user)\n",
    "    display(add_tag_button)\n",
    "    \n",
    "    this_user = w_user.kwargs['user']\n",
    "    this_tag = w_tag.kwargs['tag']\n",
    "    this_frame = '%s,%s'%(movie_2p,frame_2p)\n",
    "    this_request = tag_http+'?action=ADD&tag=%s&user=%s&frame=%s'%(this_tag,this_user,this_frame)\n",
    "    r = requests.get(this_request).json()['statusCode']\n",
    "    if r == 200: print('tag added to : %s %s'%(movie_2p, frame_2p))\n",
    "    else: print ('error %s'%r)\n",
    "\n",
    "add_tag_button = widgets.Button(description=\"add tag\", button_style='info')\n",
    "add_tag_button.style.button_color = button_color\n",
    "add_tag_button.on_click(add_tag)\n",
    "\n",
    "display(w_tag)\n",
    "display(w_user)\n",
    "display(add_tag_button)"
   ]
  },
  {
   "cell_type": "code",
   "execution_count": 18,
   "metadata": {},
   "outputs": [
    {
     "name": "stdout",
     "output_type": "stream",
     "text": [
      "\n",
      " \n",
      " \n",
      " \n",
      " \n",
      "\n"
     ]
    }
   ],
   "source": [
    "print('\\n', '\\n', '\\n', '\\n', '\\n')"
   ]
  },
  {
   "cell_type": "markdown",
   "metadata": {},
   "source": [
    "### SEARCH"
   ]
  },
  {
   "cell_type": "markdown",
   "metadata": {},
   "source": [
    "### tags index"
   ]
  },
  {
   "cell_type": "code",
   "execution_count": 19,
   "metadata": {
    "scrolled": true
   },
   "outputs": [
    {
     "name": "stdout",
     "output_type": "stream",
     "text": [
      " mouth  .  1  .  2  .  3  .  4  .  4'33  .  5  .  6  .  7  .  8  .  9  .  Accessoir  .  Accessory  .  Archive  .  Atelier  .  Backroom  .  Bespoke  .  CONCIERGE  .  Center  .  Chambers  .  City_relation  .  Courtyard  .  EMPRESS  .  Elizabeth  .  Empress  .  Fall  .  Fitting  .  Flaunt  .  Frame  .  GUESTS  .  Garden  .  Garnment  .  H2O  .  Knowledge  .  LL  .  LL_concert  .  LL_island  .  LL_living  .  Marchant  .  Museum  .  Na  .  N°1  .  N°2  .  Party  .  Pit  .  SCHATZALP  .  Screen  .  Screen_Media  .  Seas  .  Sophists’ money  .  Spirit  .  Spring  .  Summer  .  Vienna  .  Vienna_obj  .  Void  .  WEF  .  Wall  .  Winter  .  a  .  a la barre  .  a la barre_obj  .  accessories  .  action  .  adoration  .  adoration_body  .  adoration_candles  .  adoration_doors  .  adoration_touch  .  adoration_window  .  agora  .  agora portal  .  agora theatre  .  aiakos  .  aisle  .  alien  .  all  .  altar  .  amen  .  amphitheatre  .  anger  .  animal  .  anonymous  .  antechamber  .  anxiety  .  anxiety_je  .  apollo  .  apollon  .  apotheosium  .  applause  .  appointment  .  arava_valley  .  arcade  .  architecturalcomponent  .  archive  .  area  .  area_lizzy  .  area_lizzy2  .  arena  .  ark  .  arrival  .  assembly  .  astro  .  atmosphere  .  attack  .  attraction  .  audience  .  auditorium  .  b  .  bach  .  bachian_bath  .  bachian_rehearsal  .  background  .  balcony  .  ballinthedome  .  balloon  .  ballroom  .  bank  .  banquet  .  banquet panorama  .  banquet2  .  banquetpanorama  .  bar  .  baroque  .  basileion  .  basileios  .  basilica  .  basilica_altar  .  basilica_atmosphere  .  basilica_ceiling  .  basilica_columns  .  basilica_floor  .  basin  .  bath  .  bath   .  bathing ritual  .  bathrobe  .  bderoom  .  beach  .  bed  .  bedroom  .  bedroom_atmosphere  .  bedtime  .  bema  .  big_hall  .  billboard  .  biosphere  .  bird  .  birth_wall  .  bistrot_atmosphere  .  bistrot_ceiling  .  bistrot_columns  .  bistrot_floor  .  bistrot_table  .  bite  .  black  .  blackout  .  blade-runner  .  bladerunner  .  blood  .  blue  .  boat  .  bodies  .  body  .  bodybuilder  .  bodybuilder_builder  .  bondage  .  boobs  .  book  .  boudoir  .  bouleterion  .  bouquet  .  boxing  .  boxing   .  breakfast  .  brief  .  brilliance  .  bub  .  bubble  .  buffet  .  building  .  building site  .  burglary  .  burning  .  c   .  cabra  .  cafe  .  cage  .  calm  .  calm_  .  camping  .  candles  .  candy  .  capsule  .  car  .  carnal  .  carpet  .  carrousel  .  cassettes  .  cat  .  catacombs  .  catastrophe  .  cathedral  .  catwalk  .  cave  .  cemetery  .  centralizing  .  ceremony  .  ch  .  chairs  .  chaiselongue  .  chandelier  .  change  .  chaos  .  chapel  .  character  .  chase  .  chess  .  children  .  choir  .  choreography  .  chr  .  chrome  .  church  .  churches  .  cigarette  .  cinema  .  circe  .  circe_confusing  .  circe_openings  .  circe_roofs  .  circe_sorted_1  .  circe_textile  .  circe_walls  .  circle  .  circus  .  city  .  citys  .  cityscape  .  cityv  .  classicism  .  clean  .  clinic  .  clo  .  cloche  .  clock  .  closet  .  cloud  .  coffee_shop  .  cognition  .  cohabitation  .  collection  .  colonade  .  color  .  color-palette  .  colour  .  colours  .  columns  .  comfort  .  confession  .  confusion  .  connections  .  continuous_space  .  control  .  control_body  .  control_object  .  control_room  .  cook  .  cooking  .  copy  .  coral  .  corner  .  corridor  .  cosmos  .  council  .  coupola  .  courage  .  court_room  .  courtyard  .  couveuse  .  cover  .  coverBrief  .  craft  .  creation  .  creator  .  crowd  .  crystal  .  cupbearer  .  cupola  .  curtain  .  curtains  .  curtains_obj  .  cycle  .  cycling  .  d  .  damier  .  damned  .  danae  .  dance  .  dark  .  dark_and_the_machine  .  darkness  .  dead animals  .  death  .  decalage  .  delirium  .  desert  .  destruction  .  detail  .  dialogue  .  diams  .  diner  .  dining  .  dining hall  .  diningRed  .  dining_room  .  dinner  .  diplomatic_Material  .  diplomatic_corridor  .  diplomatic_furniture  .  diplomatic_material  .  disaffected  .  disbalance  .  disorder  .  domestic  .  dominic  .  door  .  doors  .  doppelgängers  .  double_helix  .  dpilomatic_corridor  .  draught  .  dream  .  dreams  .  dress  .  dress_up  .  dressedup  .  dressing  .  dressingroom  .  drink  .  duble_helix  .  dumbwaiter  .  dumbwaiter_mouth  .  dumbwaiter_plate  .  dumbwaiter_shaft  .  e  .  earring  .  ears  .  echo  .  echo_material  .  echo_structure  .  echo_topo  .  egg  .  egg_cook  .  eiffel tower  .  electric  .  elelvatore  .  elelvatorm  .  elelvators  .  elements  .  elevation  .  elevator  .  elevator_shaft  .  elisabeth  .  embty_room  .  emotion  .  empress  .  entrance  .  entrance_hall_lizzy  .  entranceday  .  entrancenight  .  entry  .  eruption  .  escalation  .  etc  .  event  .  excess  .  exhibition  .  exile  .  expand  .  expectation  .  experiment  .  explosion  .  eye  .  eyes  .  f  .  fabric  .  facade  .  facade_lizzy  .  facde  .  face  .  facef  .  facel  .  facem  .  fall  .  fashion  .  fat  .  fear  .  fear_  .  feast  .  feet  .  felt_rubber  .  fertile  .  figure  .  fire  .  fire   .  fire_earth  .  fire_water  .  fireflies   .  fishpond  .  flashes  .  flirt  .  float  .  floating_tank  .  flood  .  floor  .  floorrelic  .  flow  .  flowers   .  foam  .  fog  .  foggyBodies  .  food  .  food   .  forest  .  forest/swamp  .  fountain  .  fountain   .  fountain_of_youth  .  foyer  .  frame  .  frankenstein  .  free  .  freezer  .  freezere  .  freezerm  .  freezers  .  frenzy  .  frenzy_ex  .  friendliness  .  friends  .  fruits  .  fur  .  g  .  gallery  .  gamelan_garden  .  games  .  garbage dump  .  garden  .  garden-city  .  garden1  .  garden2  .  garden_lenny  .  garden_lunotz  .  garden_obj  .  gardena  .  gardenl  .  gardenr  .  gardens  .  gardenv  .  gate  .  genesis  .  get_in_line  .  gift  .  glas  .  glas_breaking  .  glass  .  glimpse  .  glorification  .  glorification_bodies  .  glorification_objects  .  glorification_walls  .  god  .  gold  .  green_marble  .  greenhouse  .  grid  .  grotte  .  grotto  .  group  .  gsm  .  guest  .  guest_bedroom  .  guests  .  guild  .  guilt  .  gymnasium  .  haircut  .  hall  .  halle  .  hallem  .  hallm  .  halls  .  hallways  .  hand  .  happiness  .  happy mass  .  hearthbeat_smelling  .  heaven  .  hedge  .  helicopter  .  hell  .  helmsman  .  hephaistos  .  holy  .  horizon  .  horizontal  .  horses  .  horses-cu  .  hotel-room  .  house  .  housedreams  .  hyacinth  .  ice  .  iceberg  .  identity  .  idk  .  illusion  .  inderfab2  .  industry  .  influencer  .  ins  .  insect  .  inside  .  interaction  .  interior  .  interspace  .  introducing  .  invitation  .  island  .  jail  .  jewelry  .  jewlery  .  journey  .  joy  .  justice  .  kai  .  kill  .  king'sCarrousel  .  king'sChamber  .  king'sCity  .  king'sDinner  .  king'sHall  .  king'sHorse  .  king'sStage  .  king'sYacht  .  kino  .  kinoo  .  kiss  .  kitchen  .  kitchen_element  .  kitchen_elements  .  kitchen_material  .  kitchene  .  kitchenm  .  kitchens  .  knife  .  lab  .  labblue  .  labyrinth  .  landscape  .  latermaybe  .  lavatorium  .  lavatory  .  lecture_room  .  lenny  .  lennyf  .  lennym  .  letter  .  liberality  .  library  .  library_work  .  liftknopf  .  light  .  light   .  light explosion  .  light_hearing  .  light_in_darkness  .  limestone  .  limit  .  line1  .  line2  .  line3  .  line4  .  liquid_texture  .  living  .  living_room  .  livingroom  .  lizzyszoo  .  lobby  .  loneilness  .  loneliness  .  lonely  .  lovers  .  ludwig  .  lunotz_garden  .  lynchean  .  magic  .  magnanimity  .  magnificence  .  main_hall  .  makeup  .  marble  .  margot  .  margotlikes  .  market  .  mary  .  mask  .  material  .  material_kitchen  .  maternal cushion  .  maybe  .  maybe   .  maybelater  .  maze_facade  .  media  .  medieval city  .  meditation  .  meditation_water  .  meeting  .  meis  .  memory  .  menagerie  .  menu  .  mess  .  metis  .  metis_columns  .  metis_openings  .  metis_patterns  .  metis_roofs  .  metis_sorted_1  .  metis_structure  .  mezzanine  .  milk  .  minimal  .  mint  .  mirror  .  mirror_obj  .  mirroring  .  mix  .  monitor  .  monster  .  monument  .  monument   .  mor  .  moscow  .  mother  .  motion  .  mountain  .  mountains  .  mouth  .  move  .  muesum  .  mushroom  .  n  .  naked  .  narrow  .  nature  .  nebula  .  nepal  .  newsroom  .  niche  .  nomadic_space  .  normality  .  notsure  .  notsureyet  .  numbers  .  objects  .  oculus  .  office  .  oi  .  oil  .  ointment  .  one_movie  .  oparea  .  opening  .  openings  .  opera  .  opera_area  .  operating-room  .  operation  .  optheosium  .  ornament  .  ornamentarium  .  other  .  out  .  outgroup  .  outside  .  ouverture  .  paint_lunotz  .  painting  .  paintings  .  palace  .  palacesbath  .  palacescompartments  .  palacescover  .  palacescover2  .  palacescover3  .  palacesdelicacies  .  palacesface  .  palacesfashion  .  palacesfoyer  .  palacesgrotto  .  palaceshall  .  palaceslover  .  palacesobjects  .  palacesompartments  .  palacespaintings  .  palacesralationtoparis  .  palacesrelationtoparis  .  palacesrextures  .  palacesship  .  palacessuitcase  .  palacestextures  .  palacestower  .  palantir  .  pandora  .  pandora_bib  .  pandora_out  .  pano  .  panopticon  .  panopticon_obj  .  panorama 1  .  pantheon  .  paradise  .  parano  .  paris  .  parliament  .  parting  .  party  .  passage  .  passetto  .  passetto_mouth  .  path  .  patience  .  pattern  .  paved  .  pavillon  .  pensée  .  people mass  .  perceiving  .  performance  .  phone  .  photos  .  piano  .  pier  .  pink  .  pit  .  planning  .  plastic  .  plate  .  play  .  playground  .  plaza  .  plenty  .  pool  .  portal  .  portrait  .  poursuite  .  power  .  pray  .  preparation  .  pride  .  pride_  .  prison  .  procession  .  production  .  profile  .  protest  .  quarantine  .  r1  .  rain  .  rainbow  .  raining  .  rave  .  reaction  .  rebound  .  receiving  .  reception  .  recovery  .  red  .  refraction   .  rehabilitation  .  reinforcement  .  relic  .  relicdreams  .  relics  .  reliquary  .  rememberance  .  rescue  .  resolution low  .  resting  .  rich forest  .  ride  .  risk  .  ritual  .  ritual fire  .  rituals  .  river  .  rock  .  rocket  .  rooftop  .  rooftope  .  rooftopm  .  rooftops  .  room  .  ruin  .  ruins  .  run  .  run_die  .  running  .  runnning  .  runway  .  s  .  sacrifice  .  sad  .  saliva  .  salon  .  satin  .  savage  .  scaffolding  .  scenario  .  scene  .  schatzalp  .  schönberg  .  schönbergian_rehearsal  .  science  .  screen  .  sculpture  .  sea  .  secret  .  seine  .  seinepanorama  .  senses  .  ser  .  server  .  sex  .  shadow  .  shame  .  shape-of-water  .  shapes-of-water  .  sheep  .  shining  .  ship  .  shoes  .  shoesfeet  .  shoesrelic  .  shooting  .  shopping mall  .  shrine  .  siege  .  silecho  .  silhouette  .  silk  .  sin  .  site  .  site_bestand  .  sittinginbath  .  skin  .  skull  .  sky  .  sky_moon  .  skyline  .  sleep  .  smoke  .  snow  .  snow   .  soapbox  .  soft  .  solar  .  solitude  .  something  .  sophistication  .  sound  .  sounds_touching  .  sounds_watching  .  space  .  sparks  .  specatcle  .  spectacle  .  speech  .  spheres  .  spiegelsaal  .  spinning  .  spirale  .  spotlight  .  stable  .  stables  .  stage  .  stair  .  staircase  .  stairs  .  statue  .  steam  .  steel structure  .  steep  .  steps  .  still  .  stone  .  stones  .  str  .  strategeion  .  street  .  street_lunotz  .  structure  .  stucco  .  studio  .  suitcase  .  sun  .  sunflower  .  surrealism  .  surroundings  .  suspension  .  symbols  .  symmetry  .  synesthetic  .  table  .  tales  .  talese  .  talesm  .  taless  .  taste_hearing  .  temperance  .  temple  .  tennis  .  tension  .  tent  .  terrain_vague  .  textile  .  texture  .  textures  .  the city  .  the edifice wants  .  the feast deceives  .  the harvest congeals  .  the pit forms  .  the rejection soils  .  the soap tastes  .  the_end  .  theater 1  .  theater1  .  theatre  .  think  .  this  .  threat  .  threshdreams  .  threshing  .  threshold  .  throne  .  thunder  .  tiles  .  time  .  time_seeing  .  toEat  .  tomb  .  tomb_fire  .  tomb_stone  .  torch  .  touch  .  touch, smell, taste  .  touch_obj  .  tower  .  traces  .  trailer  .  training_ground  .  transform  .  transformation  .  transition  .  transparency  .  tree  .  treeandbalcony  .  trickster  .  turn  .  tv  .  underwater  .  unity  .  university  .  unknown  .  unkown  .  upset  .  vanity  .  veg  .  vege  .  veil  .  vertigo  .  violin  .  void  .  waiter  .  waiting  .  walking  .  wall  .  wall light  .  wallpaper  .  walls  .  wallscreen  .  waltz  .  waltz_dream  .  war  .  wardrobe  .  wasteland  .  water  .  water_texture  .  waterdrop  .  waterfall  .  wave  .  way  .  wef  .  weightless   .  weightless_obj  .  wheat  .  whirl  .  white  .  white_space  .  wi  .  wild  .  wind  .  wind_water_earth  .  wind_water_storm  .  window  .  window_shadow  .  windows  .  wine  .  wine_glass  .  wittiness  .  woman  .  wound  .  wtc  .  wunderkammer  .  yellow  .  "
     ]
    },
    {
     "data": {
      "application/vnd.jupyter.widget-view+json": {
       "model_id": "99ceec053eb549d89cb599e59164cdb8",
       "version_major": 2,
       "version_minor": 0
      },
      "text/plain": [
       "Button(button_style='info', description='refresh tags', style=ButtonStyle(button_color='black'))"
      ]
     },
     "metadata": {},
     "output_type": "display_data"
    }
   ],
   "source": [
    "this_request = tag_http+'?action=GET_ALL_TAGS'\n",
    "r = requests.get(this_request).json()['body']\n",
    "for e in sorted(r):\n",
    "    print(e, end='  .  ')\n",
    "\n",
    "def get_tags(event):\n",
    "    clear_output()\n",
    "\n",
    "    this_request = tag_http+'?action=GET_ALL_TAGS'\n",
    "    r = requests.get(this_request).json()['body']\n",
    "    for e in sorted(r):\n",
    "        print(e, end='  .  ')\n",
    "    \n",
    "    display(refresh_tags_button)\n",
    "\n",
    "        \n",
    "refresh_tags_button = widgets.Button(description=\"refresh tags\", button_style='info')\n",
    "refresh_tags_button.style.button_color = button_color\n",
    "display(refresh_tags_button)\n",
    "refresh_tags_button.on_click(get_tags)"
   ]
  },
  {
   "cell_type": "markdown",
   "metadata": {},
   "source": [
    "### users index"
   ]
  },
  {
   "cell_type": "code",
   "execution_count": 20,
   "metadata": {},
   "outputs": [
    {
     "name": "stdout",
     "output_type": "stream",
     "text": [
      "3-2  .  4-2  .  Daryl  .  Held  .  Helia  .  JANOSCBR  .  Jan  .  Julie  .  MariaT  .  Meis  .  Rachelle  .  Suitcase  .  TBoi  .  alienist  .  anh  .  archive  .  b  .  baby  .  berke  .  boka  .  bub  .  circe  .  cowboy  .  damned  .  dance  .  daryl  .  dominic  .  elgreco  .  eva  .  feet  .  flavio  .  fontans  .  gaad  .  gsm  .  h  .  hampe  .  heldc  .  helia  .  hero  .  huberleo  .  inderfab  .  inderfab2  .  inderfab3  .  jakob  .  janoscbr  .  jb  .  jno  .  jorge  .  julie  .  julie   .  jyu  .  k  .  kieran  .  lah  .  laura  .  leonie  .  lets_go_with_katia  .  lets_go_with_katia   .  liquid  .  lunotz  .  margot  .  meis  .  mess  .  moloch  .  moritz  .  naked  .  nb  .  oliver  .  omaelle  .  omuli  .  ortolan  .  page  .  poureli  .  pygmaliion  .  pygmalion  .  queenlizzy  .  radenka  .  rani  .  relics  .  rni  .  sebastian  .  secret  .  sigi  .  slash  .  sophie  .  spheres  .  stan  .  tatja  .  tatjana  .  throne  .  tj  .  toti  .  turn  .  vampire  .  walls  .  wayward  .  wicca  .  "
     ]
    },
    {
     "data": {
      "application/vnd.jupyter.widget-view+json": {
       "model_id": "27187ccda46d49fc968541469bd87e8f",
       "version_major": 2,
       "version_minor": 0
      },
      "text/plain": [
       "Button(button_style='info', description='refresh users', style=ButtonStyle(button_color='black'))"
      ]
     },
     "metadata": {},
     "output_type": "display_data"
    }
   ],
   "source": [
    "this_request = tag_http+'?action=GET_ALL_USERS'\n",
    "r = requests.get(this_request).json()['body']\n",
    "for e in sorted(r):\n",
    "    print(e, end='  .  ')\n",
    "\n",
    "def get_users(event):\n",
    "    clear_output()\n",
    "\n",
    "    this_request = tag_http+'?action=GET_ALL_USERS'\n",
    "    r = requests.get(this_request).json()['body']\n",
    "    for e in sorted(r):\n",
    "        print(e, end='  .  ')\n",
    "    \n",
    "    display(refresh_users_button)\n",
    "\n",
    "        \n",
    "refresh_users_button = widgets.Button(description=\"refresh users\", button_style='info')\n",
    "refresh_users_button.style.button_color = button_color\n",
    "display(refresh_users_button)\n",
    "refresh_users_button.on_click(get_users)"
   ]
  },
  {
   "cell_type": "markdown",
   "metadata": {},
   "source": [
    "### > type a tag and/or user"
   ]
  },
  {
   "cell_type": "code",
   "execution_count": 21,
   "metadata": {},
   "outputs": [
    {
     "data": {
      "application/vnd.jupyter.widget-view+json": {
       "model_id": "61276048a6d7400986a49574dd79fbfa",
       "version_major": 2,
       "version_minor": 0
      },
      "text/plain": [
       "interactive(children=(Text(value='', description='tag_search'), Output()), _dom_classes=('widget-interact',))"
      ]
     },
     "metadata": {},
     "output_type": "display_data"
    },
    {
     "data": {
      "application/vnd.jupyter.widget-view+json": {
       "model_id": "2925b7b7370f4a1ca191119a3631db18",
       "version_major": 2,
       "version_minor": 0
      },
      "text/plain": [
       "interactive(children=(Text(value='', description='user_search'), Output()), _dom_classes=('widget-interact',))"
      ]
     },
     "metadata": {},
     "output_type": "display_data"
    },
    {
     "data": {
      "application/vnd.jupyter.widget-view+json": {
       "model_id": "dbf1069cbd4149b3be87428275ac15ea",
       "version_major": 2,
       "version_minor": 0
      },
      "text/plain": [
       "Button(button_style='info', description='search tag', style=ButtonStyle(button_color='black'))"
      ]
     },
     "metadata": {},
     "output_type": "display_data"
    }
   ],
   "source": [
    "# BOXES \n",
    "def getUserSearch(user_search):\n",
    "    return\n",
    "\n",
    "def getTagSearch(tag_search):\n",
    "    return\n",
    "\n",
    "w_user_search = interactive(getUserSearch, user_search='')\n",
    "w_tag_search = interactive(getTagSearch, tag_search='')\n",
    "\n",
    "# BUTTON\n",
    "def search_tag(event):\n",
    "    clear_output()\n",
    "    display(w_tag_search)\n",
    "    display(w_user_search)\n",
    "    display(search_tag_button)\n",
    "    \n",
    "    this_user = w_user_search.kwargs['user_search']\n",
    "    this_tag = w_tag_search.kwargs['tag_search']\n",
    "    \n",
    "    global my_frames_tag\n",
    "    if len(this_user) > 0 and len(this_tag) > 0:\n",
    "        this_request = tag_http+'?action=GET_FRAMES_USER_TAG&tag=%s&user=%s'%(this_tag,this_user)\n",
    "        my_frames_tag = requests.get(this_request).json()\n",
    "        this_length = len(my_frames_tag['body'])\n",
    "        print (this_length, 'images with this search')\n",
    "    elif len(this_user) > 0 and len(this_tag) == 0:\n",
    "        this_request = tag_http+'?action=GET_FRAMES_USER&user=%s'%(this_user)\n",
    "        my_frames_tag = requests.get(this_request).json()\n",
    "        this_length = len(my_frames_tag['body'])\n",
    "        print (this_length, 'images with this search')\n",
    "        this_tags = set([ f['tag'] for f in my_frames_tag['body'] ])\n",
    "        print (this_user, 'is talking about  .  ', end='')\n",
    "        for e in sorted(this_tags): print(e, end='  .  ')\n",
    "    elif len(this_user) == 0 and len(this_tag) > 0:\n",
    "        this_request = tag_http+'?action=GET_FRAMES_TAG&tag=%s'%(this_tag)\n",
    "        my_frames_tag = requests.get(this_request).json()\n",
    "        this_length = len(my_frames_tag['body'])\n",
    "        print (this_length, 'images with this search')\n",
    "        this_users = set([ f['user'] for f in my_frames_tag['body'] ])\n",
    "        print (this_tag, 'is talked about by  .  ', end='')\n",
    "        for e in sorted(this_users): print(e, end='  .  ')\n",
    "    else:\n",
    "        print ('type a user name and/or a tag')\n",
    "                \n",
    "    global my_globals_tag\n",
    "    my_globals_tag = {'plotted':[], 'w_buttons':[]}\n",
    "        \n",
    "search_tag_button = widgets.Button(description=\"search tag\", button_style='info')\n",
    "search_tag_button.style.button_color = button_color\n",
    "search_tag_button.on_click(search_tag)\n",
    "\n",
    "display(w_tag_search)\n",
    "display(w_user_search)\n",
    "display(search_tag_button)"
   ]
  },
  {
   "cell_type": "code",
   "execution_count": 22,
   "metadata": {},
   "outputs": [
    {
     "data": {
      "application/vnd.jupyter.widget-view+json": {
       "model_id": "888b70c7478c46bda00f2481ebcc7ad7",
       "version_major": 2,
       "version_minor": 0
      },
      "text/plain": [
       "Button(button_style='info', description='show', style=ButtonStyle(button_color='black'))"
      ]
     },
     "metadata": {},
     "output_type": "display_data"
    }
   ],
   "source": [
    "# PLOT RANDOM FRAMES \n",
    "def plot_frames_tags(event):\n",
    "    clear_output()\n",
    "    display(plot_button_tags)\n",
    "    \n",
    "    my_frames = my_frames_tag['body']\n",
    "    how_many = 16\n",
    "    plot_x, plot_y = 4,4\n",
    "\n",
    "    if len(my_frames) < how_many:\n",
    "        how_many = len(my_frames)\n",
    "\n",
    "    all_i = [ i for i in range(len(my_frames)) ]\n",
    "\n",
    "    import random\n",
    "    on_off = True\n",
    "    this_sample = []\n",
    "    while on_off:\n",
    "        if len(my_globals_tag['plotted']) == len(my_frames):\n",
    "            my_globals_tag['plotted'] = []\n",
    "            print(\"...you've seen it all\")\n",
    "        r = random.choice(all_i)\n",
    "        if r in my_globals_tag['plotted']:\n",
    "            pass\n",
    "        else:\n",
    "            this_sample.append(r)\n",
    "            my_globals_tag['plotted'].append(r)\n",
    "            if len(my_globals_tag['plotted']) == len(my_frames):\n",
    "                print('...last batch')\n",
    "                break\n",
    "        if len(this_sample) == how_many:\n",
    "            break\n",
    "\n",
    "    # OPEN IMAGES ------------------------------\n",
    "    import requests\n",
    "\n",
    "    s3BucketName = \"panoramas-of-cinema\"\n",
    "    region_name = 'eu-central-1'\n",
    "\n",
    "    i=0\n",
    "    frames_plot = []\n",
    "    for e in my_frames:\n",
    "        film = e['movie']\n",
    "        frame = e['frame']\n",
    "        if i in this_sample:\n",
    "            try:\n",
    "                objectKey = \"frames_db%s/by_scene_thumbnail%s\" % (film, frame)\n",
    "                this_frame = \"https://%s.s3.%s.amazonaws.com/%s\"%(s3BucketName,region_name,objectKey)\n",
    "                img = requests.get(this_frame).content          \n",
    "                frames_plot.append( (film, frame, img) )\n",
    "            except:\n",
    "                raise \n",
    "        i+=1\n",
    "\n",
    "    # PLOT ------------------------------\n",
    "    def on_button_clicked(event):\n",
    "        global movie_2p_tag, frame_2p_tag\n",
    "        global movie_2p, frame_2p\n",
    "        \n",
    "        this_button = id(event)\n",
    "        G = globals()\n",
    "        all_buttons = G['my_globals_tag']['w_buttons']\n",
    "        for i, b in enumerate(all_buttons):\n",
    "            this_id = id(b)\n",
    "            if this_button == this_id:\n",
    "                movie_2p_tag = my_globals_tag['w_buttons'][i].description\n",
    "                frame_2p_tag = my_globals_tag['w_buttons'][i].tooltip\n",
    "                movie_2p = my_globals_tag['w_buttons'][i].description\n",
    "                frame_2p = my_globals_tag['w_buttons'][i].tooltip\n",
    "                \n",
    "    print('...plotting %s images from %s'%(how_many, len(my_frames)))\n",
    "    from ipywidgets import Button, HBox, VBox\n",
    "    import ipywidgets as widgets\n",
    "\n",
    "    k = 0\n",
    "    movie_index, movie_names = 0, []\n",
    "    vboxes = []\n",
    "    for i in range(plot_x):\n",
    "        this_col = []\n",
    "        for j in range(plot_y):\n",
    "            if k < len(frames_plot):\n",
    "                try:\n",
    "                    image_w = widgets.Image(value=frames_plot[k][2], format='png', width=250) #height=400\n",
    "                    button = widgets.Button(description=frames_plot[k][0], tooltip=frames_plot[k][1])\n",
    "                    my_globals_tag['w_buttons'].append(button)\n",
    "\n",
    "                    button.on_click( on_button_clicked )\n",
    "\n",
    "                    this_box = [image_w, button]\n",
    "                    this_col = this_col+this_box\n",
    "\n",
    "                except:\n",
    "                    raise\n",
    "            k+=1\n",
    "\n",
    "        box = VBox( this_col )\n",
    "        vboxes.append(box)\n",
    "\n",
    "    display(HBox( vboxes ))\n",
    "    \n",
    "plot_button_tags = widgets.Button(description=\"show\", button_style='info')\n",
    "plot_button_tags.style.button_color = button_color\n",
    "display(plot_button_tags)\n",
    "plot_button_tags.on_click(plot_frames_tags)"
   ]
  },
  {
   "cell_type": "code",
   "execution_count": 23,
   "metadata": {},
   "outputs": [
    {
     "name": "stdout",
     "output_type": "stream",
     "text": [
      "\n",
      " \n",
      " \n",
      " \n",
      " \n",
      "\n"
     ]
    }
   ],
   "source": [
    "print('\\n', '\\n', '\\n', '\\n', '\\n')"
   ]
  },
  {
   "cell_type": "markdown",
   "metadata": {},
   "source": [
    "### DELETE"
   ]
  },
  {
   "cell_type": "markdown",
   "metadata": {},
   "source": [
    "### > click on an image"
   ]
  },
  {
   "cell_type": "code",
   "execution_count": 24,
   "metadata": {},
   "outputs": [
    {
     "data": {
      "application/vnd.jupyter.widget-view+json": {
       "model_id": "1b017f8e24244add90ec825dc77dae97",
       "version_major": 2,
       "version_minor": 0
      },
      "text/plain": [
       "Button(button_style='info', description='delete', style=ButtonStyle(button_color='black'))"
      ]
     },
     "metadata": {},
     "output_type": "display_data"
    }
   ],
   "source": [
    "def delete_tag(event):\n",
    "    clear_output()\n",
    "    display(delete_tag_button)\n",
    "        \n",
    "    this_user = w_user_search.kwargs['user_search']\n",
    "    this_tag = w_tag_search.kwargs['tag_search']\n",
    "    if len(this_user) > 0 and len(this_tag) > 0:\n",
    "        this_frame = '%s,%s'%(movie_2p_tag,frame_2p_tag)\n",
    "        this_request = tag_http+'?action=DELETE&tag=%s&user=%s&frame=%s'%(this_tag,this_user,this_frame)\n",
    "        r = requests.get(this_request).json()['statusCode']\n",
    "        if r == 200: print('tag deleted : %s %s'%(movie_2p_tag, frame_2p_tag))\n",
    "        else: print ('error %s'%r)\n",
    "    else:\n",
    "        print ('! user or tag is missing')\n",
    "\n",
    "    \n",
    "delete_tag_button = widgets.Button(description=\"delete\", button_style='info')\n",
    "delete_tag_button.style.button_color = button_color\n",
    "display(delete_tag_button)\n",
    "delete_tag_button.on_click(delete_tag)"
   ]
  },
  {
   "cell_type": "code",
   "execution_count": 25,
   "metadata": {},
   "outputs": [
    {
     "name": "stdout",
     "output_type": "stream",
     "text": [
      "\n",
      " \n",
      " \n",
      " \n",
      " \n",
      "\n"
     ]
    }
   ],
   "source": [
    "print('\\n', '\\n', '\\n', '\\n', '\\n')"
   ]
  },
  {
   "cell_type": "markdown",
   "metadata": {},
   "source": [
    "ETH Zurich &nbsp;&nbsp;&nbsp;&nbsp;&nbsp; Department of Architecture &nbsp;&nbsp;&nbsp;&nbsp;&nbsp; Chair for Digital Architectonics &nbsp;&nbsp;&nbsp;&nbsp;&nbsp; 2021"
   ]
  },
  {
   "cell_type": "code",
   "execution_count": null,
   "metadata": {},
   "outputs": [],
   "source": []
  }
 ],
 "metadata": {
  "kernelspec": {
   "display_name": "Python 3",
   "language": "python",
   "name": "python3"
  },
  "language_info": {
   "codemirror_mode": {
    "name": "ipython",
    "version": 3
   },
   "file_extension": ".py",
   "mimetype": "text/x-python",
   "name": "python",
   "nbconvert_exporter": "python",
   "pygments_lexer": "ipython3",
   "version": "3.7.6"
  }
 },
 "nbformat": 4,
 "nbformat_minor": 4
}
