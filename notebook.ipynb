{
 "cells": [
  {
   "cell_type": "code",
   "execution_count": null,
   "metadata": {},
   "outputs": [],
   "source": [
    "from IPython.display import HTML\n",
    "\n",
    "HTML('''<script>\n",
    "code_show=true; \n",
    "function code_toggle() {\n",
    " if (code_show){\n",
    " $('div.input').hide();\n",
    " } else {\n",
    " $('div.input').show();\n",
    " }\n",
    " code_show = !code_show\n",
    "} \n",
    "$( document ).ready(code_toggle);\n",
    "</script>\n",
    "<em>the code of this notebook is hidden for easier reading.\n",
    "to toggle it on/off click <a href=\"javascript:code_toggle()\">here</a>.</em>''')"
   ]
  },
  {
   "cell_type": "markdown",
   "metadata": {
    "slideshow": {
     "slide_type": "-"
    }
   },
   "source": [
    "### PANORAMAS OF CINEMA online"
   ]
  },
  {
   "cell_type": "markdown",
   "metadata": {},
   "source": [
    "# // IMAGE SEARCH\n",
    "v0.01"
   ]
  },
  {
   "cell_type": "code",
   "execution_count": null,
   "metadata": {
    "code_folding": []
   },
   "outputs": [],
   "source": [
    "# REQUEST INDEXES\n",
    "import requests\n",
    "r = requests.get(\"https://panoramas-of-cinema.s3.eu-central-1.amazonaws.com/indexes/videotheques_inv.json\")\n",
    "query_response = r.json()\n",
    "\n",
    "button_color = 'black' # #7d1b27 darkRed"
   ]
  },
  {
   "cell_type": "markdown",
   "metadata": {},
   "source": [
    "# 1. SEARCH THE VIDEOTHEQUE"
   ]
  },
  {
   "cell_type": "markdown",
   "metadata": {},
   "source": [
    "### places index"
   ]
  },
  {
   "cell_type": "code",
   "execution_count": null,
   "metadata": {
    "code_folding": [],
    "scrolled": false
   },
   "outputs": [],
   "source": [
    "# SHOW INDEXES \n",
    "for e in sorted(query_response['places']):\n",
    "    print(e, end='  .  ')"
   ]
  },
  {
   "cell_type": "markdown",
   "metadata": {},
   "source": [
    "### objects index"
   ]
  },
  {
   "cell_type": "code",
   "execution_count": null,
   "metadata": {
    "code_folding": []
   },
   "outputs": [],
   "source": [
    "# SHOW INDEXES \n",
    "for e in sorted(query_response['objects']):\n",
    "    print(e, end='  .  ')"
   ]
  },
  {
   "cell_type": "markdown",
   "metadata": {},
   "source": [
    "### > type the indexes and tune the confidences"
   ]
  },
  {
   "cell_type": "code",
   "execution_count": null,
   "metadata": {
    "code_folding": [],
    "scrolled": false
   },
   "outputs": [],
   "source": [
    "# DISPLAY WIDGETS \n",
    "from IPython.display import display, clear_output\n",
    "from ipywidgets import interactive, interact\n",
    "import ipywidgets as widgets\n",
    "\n",
    "def p(place, min_conf, max_conf):\n",
    "    return\n",
    "\n",
    "def o(obj, min_conf, max_conf):\n",
    "    return\n",
    "\n",
    "w_places = interactive(p, place='hospital_room',\n",
    "                min_conf=widgets.FloatSlider(min=0.00, max=1., step=.001, value=.0),\n",
    "                max_conf=widgets.FloatSlider(min=0.00, max=1., step=.001, value=1.) )\n",
    "\n",
    "w_objects = interactive(o, obj='chair',\n",
    "                min_conf=widgets.FloatSlider(min=0.00, max=1., step=.001, value=.0),\n",
    "                max_conf=widgets.FloatSlider(min=0.00, max=1., step=.001, value=1.) )\n",
    "\n",
    "\n",
    "display(w_places)\n",
    "display(w_objects)"
   ]
  },
  {
   "cell_type": "markdown",
   "metadata": {},
   "source": [
    "### > select the faces"
   ]
  },
  {
   "cell_type": "code",
   "execution_count": null,
   "metadata": {},
   "outputs": [],
   "source": [
    "def f(no_faces, yes_faces):\n",
    "    return\n",
    "w_faces = interactive(f, no_faces=True, yes_faces=True)\n",
    "display(w_faces)"
   ]
  },
  {
   "cell_type": "code",
   "execution_count": null,
   "metadata": {
    "code_folding": []
   },
   "outputs": [],
   "source": [
    "# REFRESH QUERY\n",
    "def refresh_query(event):\n",
    "    clear_output()\n",
    "    display(refresh_button)\n",
    "    \n",
    "    place = w_places.kwargs['place']\n",
    "    place_conf = \"%s,%s\"%(w_places.kwargs['min_conf'],w_places.kwargs['max_conf'])\n",
    "\n",
    "    obj = w_objects.kwargs['obj']\n",
    "    obj_conf = \"%s,%s\"%(w_objects.kwargs['min_conf'],w_objects.kwargs['max_conf'])\n",
    "\n",
    "    faces = str()\n",
    "    if w_faces.kwargs['no_faces']:\n",
    "        faces = faces+'no_faces'\n",
    "    if w_faces.kwargs['yes_faces']:\n",
    "        if len(faces) > 0:\n",
    "            faces = faces+',small_faces'\n",
    "        else:\n",
    "            faces = faces+'small_faces'\n",
    "\n",
    "    # \n",
    "    this_query = 'http://pocquery-env.eba-ap3n3cr3.eu-central-1.elasticbeanstalk.com/query?'\n",
    "    if place: this_query = this_query+'places=%s,%s'%(place,place_conf)\n",
    "    if faces: this_query = this_query+'&faces=%s'%faces\n",
    "    if obj: this_query = this_query+'&objects=%s,%s'%(obj,obj_conf)\n",
    "    \n",
    "    global my_frames\n",
    "    my_frames = requests.get(this_query).json()['response']\n",
    "    print (len(my_frames), 'images with this search') # this_query[73:]\n",
    "    \n",
    "    global my_globals\n",
    "    my_globals = {'plotted':[], 'w_buttons':[]}\n",
    "\n",
    "                    \n",
    "refresh_button = widgets.Button(description=\"search\", button_style='info')\n",
    "refresh_button.style.button_color = button_color\n",
    "display(refresh_button)\n",
    "refresh_button.on_click(refresh_query)"
   ]
  },
  {
   "cell_type": "code",
   "execution_count": null,
   "metadata": {},
   "outputs": [],
   "source": [
    "print('\\n', '\\n', '\\n')"
   ]
  },
  {
   "cell_type": "markdown",
   "metadata": {},
   "source": [
    "# 2. SHOW THE VIDEOTHEQUE'S RESULTS"
   ]
  },
  {
   "cell_type": "code",
   "execution_count": null,
   "metadata": {
    "code_folding": []
   },
   "outputs": [],
   "source": [
    "# PLOT RANDOM FRAMES\n",
    "def plot_frames(event):\n",
    "    clear_output()\n",
    "    display(plot_button)\n",
    "    \n",
    "    how_many = 16\n",
    "    plot_x, plot_y = 4,4\n",
    "\n",
    "    if len(my_frames) < how_many:\n",
    "        how_many = len(my_frames)\n",
    "\n",
    "    all_i = [ i for i in range(len(my_frames)) ]\n",
    "\n",
    "    import random\n",
    "    on_off = True\n",
    "    this_sample = []\n",
    "    while on_off:\n",
    "        if len(my_globals['plotted']) == len(my_frames):\n",
    "            my_globals['plotted'] = []\n",
    "            print(\"...you've seen it all\")\n",
    "        r = random.choice(all_i)\n",
    "        if r in my_globals['plotted']:\n",
    "            pass\n",
    "        else:\n",
    "            this_sample.append(r)\n",
    "            my_globals['plotted'].append(r)\n",
    "            if len(my_globals['plotted']) == len(my_frames):\n",
    "                print('...last batch')\n",
    "                break\n",
    "        if len(this_sample) == how_many:\n",
    "            break\n",
    "\n",
    "    # OPEN IMAGES ------------------------------\n",
    "    import requests\n",
    "    s3BucketName = \"panoramas-of-cinema\"\n",
    "    region_name = 'eu-central-1'\n",
    "\n",
    "    i=0\n",
    "    frames_plot = []\n",
    "    for e in my_frames:\n",
    "        film = e['movieId']\n",
    "        frame = e['frameId']\n",
    "        if i in this_sample:\n",
    "            try:\n",
    "                objectKey = \"frames_db%s/by_scene%s\" % (film, frame)\n",
    "                this_frame = \"https://%s.s3.%s.amazonaws.com/%s\"%(s3BucketName,region_name,objectKey)\n",
    "                img = requests.get(this_frame).content          \n",
    "                frames_plot.append( (film, frame, img) )\n",
    "            except:\n",
    "                raise \n",
    "        i+=1\n",
    "\n",
    "    # PLOT ------------------------------\n",
    "    def on_button_clicked(event):\n",
    "        global movie_2p\n",
    "        global frame_2p\n",
    "        this_button = id(event)\n",
    "        G = globals()\n",
    "        all_buttons = G['my_globals']['w_buttons']\n",
    "        for i, b in enumerate(all_buttons):\n",
    "            this_id = id(b)\n",
    "            if this_button == this_id:\n",
    "                movie_2p = my_globals['w_buttons'][i].description\n",
    "                frame_2p = my_globals['w_buttons'][i].tooltip\n",
    "\n",
    "    print('...plotting %s images from %s'%(how_many, len(my_frames)))\n",
    "    from ipywidgets import Button, HBox, VBox\n",
    "    import ipywidgets as widgets\n",
    "\n",
    "    k = 0\n",
    "    movie_index, movie_names = 0, []\n",
    "    vboxes = []\n",
    "    for i in range(plot_x):\n",
    "        this_col = []\n",
    "        for j in range(plot_y):\n",
    "            if k < len(frames_plot):\n",
    "                try:\n",
    "                    image_w = widgets.Image(value=frames_plot[k][2], format='png', width=250) #height=400\n",
    "                    button = widgets.Button(description=frames_plot[k][0], tooltip=frames_plot[k][1])\n",
    "                    my_globals['w_buttons'].append(button)\n",
    "\n",
    "                    button.on_click( on_button_clicked )\n",
    "\n",
    "                    this_box = [image_w, button]\n",
    "                    this_col = this_col+this_box\n",
    "\n",
    "                except:\n",
    "                    raise\n",
    "            k+=1\n",
    "\n",
    "        box = VBox( this_col )\n",
    "        vboxes.append(box)\n",
    "\n",
    "    display(HBox( vboxes ))\n",
    "    \n",
    "plot_button = widgets.Button(description=\"show\", button_style='info')\n",
    "plot_button.style.button_color = button_color\n",
    "display(plot_button)\n",
    "plot_button.on_click(plot_frames)"
   ]
  },
  {
   "cell_type": "code",
   "execution_count": null,
   "metadata": {},
   "outputs": [],
   "source": [
    "print('\\n', '\\n', '\\n')"
   ]
  },
  {
   "cell_type": "markdown",
   "metadata": {},
   "source": [
    "# 3. PLAY A CLIP"
   ]
  },
  {
   "cell_type": "markdown",
   "metadata": {},
   "source": [
    "### > click on an image"
   ]
  },
  {
   "cell_type": "code",
   "execution_count": null,
   "metadata": {},
   "outputs": [],
   "source": [
    "# PLAY THE CLIP \n",
    "def play_clip(event):\n",
    "    clear_output()\n",
    "    display(play_button)\n",
    "    \n",
    "    clip_query = 'http://18.159.23.146/clip?movie=%s&frame=%s'%(movie_2p[1:],frame_2p[7:-4])\n",
    "    html_doc = requests.get(clip_query)\n",
    "\n",
    "    from bs4 import BeautifulSoup\n",
    "    soup = BeautifulSoup(html_doc.text, 'html.parser')\n",
    "    my_clip = soup.p.text\n",
    "\n",
    "    from IPython.display import Video\n",
    "    display(Video(my_clip, height=300)) \n",
    "    \n",
    "play_button = widgets.Button(description=\"play\", button_style='info')\n",
    "play_button.style.button_color = button_color\n",
    "display(play_button)\n",
    "play_button.on_click(play_clip)"
   ]
  },
  {
   "cell_type": "code",
   "execution_count": null,
   "metadata": {},
   "outputs": [],
   "source": [
    "print('\\n', '\\n', '\\n')"
   ]
  },
  {
   "cell_type": "markdown",
   "metadata": {},
   "source": [
    "# 4. ADD YOUR TAGS"
   ]
  },
  {
   "cell_type": "markdown",
   "metadata": {},
   "source": [
    "### > click on an image and type its tag and your user name"
   ]
  },
  {
   "cell_type": "code",
   "execution_count": null,
   "metadata": {},
   "outputs": [],
   "source": [
    "tag_http = 'http://poctag-env.eba-vjpstfpz.eu-central-1.elasticbeanstalk.com/tags'"
   ]
  },
  {
   "cell_type": "code",
   "execution_count": null,
   "metadata": {},
   "outputs": [],
   "source": [
    "# DISPLAY WIDGETS \n",
    "def getUser(user):\n",
    "    return\n",
    "\n",
    "def getTag(tag):\n",
    "    return\n",
    "\n",
    "w_user = interactive(getUser, user='')\n",
    "w_tag = interactive(getTag, tag='')\n",
    "\n",
    "# REFRESH QUERY\n",
    "def add_tag(event):\n",
    "    clear_output()\n",
    "    display(w_tag)\n",
    "    display(w_user)\n",
    "    display(add_tag_button)\n",
    "    \n",
    "    this_user = w_user.kwargs['user']\n",
    "    this_tag = w_tag.kwargs['tag']\n",
    "    this_frame = '%s,%s'%(movie_2p,frame_2p)\n",
    "    this_request = tag_http+'?action=ADD&tag=%s&user=%s&frame=%s'%(this_tag,this_user,this_frame)\n",
    "    r = requests.get(this_request).json()['statusCode']\n",
    "    if r == 200: print('tag added to : %s %s'%(movie_2p, frame_2p))\n",
    "    else: print ('error %s'%r)\n",
    "\n",
    "add_tag_button = widgets.Button(description=\"add tag\", button_style='info')\n",
    "add_tag_button.style.button_color = button_color\n",
    "add_tag_button.on_click(add_tag)\n",
    "\n",
    "display(w_tag)\n",
    "display(w_user)\n",
    "display(add_tag_button)"
   ]
  },
  {
   "cell_type": "code",
   "execution_count": null,
   "metadata": {},
   "outputs": [],
   "source": [
    "print('\\n', '\\n', '\\n')"
   ]
  },
  {
   "cell_type": "markdown",
   "metadata": {},
   "source": [
    "# 5. SEARCH THE TAGS"
   ]
  },
  {
   "cell_type": "markdown",
   "metadata": {},
   "source": [
    "### tags index"
   ]
  },
  {
   "cell_type": "code",
   "execution_count": null,
   "metadata": {},
   "outputs": [],
   "source": [
    "this_request = tag_http+'?action=GET_ALL_TAGS'\n",
    "r = requests.get(this_request).json()['body']\n",
    "for e in sorted(r):\n",
    "    print(e, end='  .  ')\n",
    "\n",
    "def get_tags(event):\n",
    "    clear_output()\n",
    "\n",
    "    this_request = tag_http+'?action=GET_ALL_TAGS'\n",
    "    r = requests.get(this_request).json()['body']\n",
    "    for e in sorted(r):\n",
    "        print(e, end='  .  ')\n",
    "    \n",
    "    display(refresh_tags_button)\n",
    "\n",
    "        \n",
    "refresh_tags_button = widgets.Button(description=\"refresh tags\", button_style='info')\n",
    "refresh_tags_button.style.button_color = button_color\n",
    "display(refresh_tags_button)\n",
    "refresh_tags_button.on_click(get_tags)"
   ]
  },
  {
   "cell_type": "markdown",
   "metadata": {},
   "source": [
    "### users index"
   ]
  },
  {
   "cell_type": "code",
   "execution_count": null,
   "metadata": {},
   "outputs": [],
   "source": [
    "this_request = tag_http+'?action=GET_ALL_USERS'\n",
    "r = requests.get(this_request).json()['body']\n",
    "for e in sorted(r):\n",
    "    print(e, end='  .  ')\n",
    "\n",
    "def get_users(event):\n",
    "    clear_output()\n",
    "\n",
    "    this_request = tag_http+'?action=GET_ALL_USERS'\n",
    "    r = requests.get(this_request).json()['body']\n",
    "    for e in sorted(r):\n",
    "        print(e, end='  .  ')\n",
    "    \n",
    "    display(refresh_users_button)\n",
    "\n",
    "        \n",
    "refresh_users_button = widgets.Button(description=\"refresh users\", button_style='info')\n",
    "refresh_users_button.style.button_color = button_color\n",
    "display(refresh_users_button)\n",
    "refresh_users_button.on_click(get_users)"
   ]
  },
  {
   "cell_type": "markdown",
   "metadata": {},
   "source": [
    "### > type a tag and/or user"
   ]
  },
  {
   "cell_type": "code",
   "execution_count": null,
   "metadata": {},
   "outputs": [],
   "source": [
    "# BOXES \n",
    "def getUserSearch(user_search):\n",
    "    return\n",
    "\n",
    "def getTagSearch(tag_search):\n",
    "    return\n",
    "\n",
    "w_user_search = interactive(getUserSearch, user_search='')\n",
    "w_tag_search = interactive(getTagSearch, tag_search='')\n",
    "\n",
    "# BUTTON\n",
    "def search_tag(event):\n",
    "    clear_output()\n",
    "    display(w_tag_search)\n",
    "    display(w_user_search)\n",
    "    display(search_tag_button)\n",
    "    \n",
    "    this_user = w_user_search.kwargs['user_search']\n",
    "    this_tag = w_tag_search.kwargs['tag_search']\n",
    "    \n",
    "    global my_frames_tag\n",
    "    if len(this_user) > 0 and len(this_tag) > 0:\n",
    "        this_request = tag_http+'?action=GET_FRAMES_USER_TAG&tag=%s&user=%s'%(this_tag,this_user)\n",
    "        my_frames_tag = requests.get(this_request).json()\n",
    "        this_length = len(my_frames_tag['body'])\n",
    "        print (this_length, 'images with this search')\n",
    "    elif len(this_user) > 0 and len(this_tag) == 0:\n",
    "        this_request = tag_http+'?action=GET_FRAMES_USER&user=%s'%(this_user)\n",
    "        my_frames_tag = requests.get(this_request).json()\n",
    "        this_length = len(my_frames_tag['body'])\n",
    "        print (this_length, 'images with this search')\n",
    "        this_tags = set([ f['tag'] for f in my_frames_tag['body'] ])\n",
    "        print (this_user, 'is talking about  .  ', end='')\n",
    "        for e in sorted(this_tags): print(e, end='  .  ')\n",
    "    elif len(this_user) == 0 and len(this_tag) > 0:\n",
    "        this_request = tag_http+'?action=GET_FRAMES_TAG&tag=%s'%(this_tag)\n",
    "        my_frames_tag = requests.get(this_request).json()\n",
    "        this_length = len(my_frames_tag['body'])\n",
    "        print (this_length, 'images with this search')\n",
    "        this_users = set([ f['user'] for f in my_frames_tag['body'] ])\n",
    "        print (this_tag, 'is talked about by  .  ', end='')\n",
    "        for e in sorted(this_users): print(e, end='  .  ')\n",
    "    else:\n",
    "        print ('type a user name and/or a tag')\n",
    "                \n",
    "    global my_globals_tag\n",
    "    my_globals_tag = {'plotted':[], 'w_buttons':[]}\n",
    "        \n",
    "search_tag_button = widgets.Button(description=\"search tag\", button_style='info')\n",
    "search_tag_button.style.button_color = button_color\n",
    "search_tag_button.on_click(search_tag)\n",
    "\n",
    "display(w_tag_search)\n",
    "display(w_user_search)\n",
    "display(search_tag_button)"
   ]
  },
  {
   "cell_type": "code",
   "execution_count": null,
   "metadata": {},
   "outputs": [],
   "source": [
    "print('\\n', '\\n', '\\n')"
   ]
  },
  {
   "cell_type": "markdown",
   "metadata": {},
   "source": [
    "# 6. SHOW TAG'S RESULTS"
   ]
  },
  {
   "cell_type": "code",
   "execution_count": null,
   "metadata": {},
   "outputs": [],
   "source": [
    "# PLOT RANDOM FRAMES \n",
    "def plot_frames_tags(event):\n",
    "    clear_output()\n",
    "    display(plot_button_tags)\n",
    "    \n",
    "    my_frames = my_frames_tag['body']\n",
    "    how_many = 16\n",
    "    plot_x, plot_y = 4,4\n",
    "\n",
    "    if len(my_frames) < how_many:\n",
    "        how_many = len(my_frames)\n",
    "\n",
    "    all_i = [ i for i in range(len(my_frames)) ]\n",
    "\n",
    "    import random\n",
    "    on_off = True\n",
    "    this_sample = []\n",
    "    while on_off:\n",
    "        if len(my_globals_tag['plotted']) == len(my_frames):\n",
    "            my_globals_tag['plotted'] = []\n",
    "            print(\"...you've seen it all\")\n",
    "        r = random.choice(all_i)\n",
    "        if r in my_globals_tag['plotted']:\n",
    "            pass\n",
    "        else:\n",
    "            this_sample.append(r)\n",
    "            my_globals_tag['plotted'].append(r)\n",
    "            if len(my_globals_tag['plotted']) == len(my_frames):\n",
    "                print('...last batch')\n",
    "                break\n",
    "        if len(this_sample) == how_many:\n",
    "            break\n",
    "\n",
    "    # OPEN IMAGES ------------------------------\n",
    "    import requests\n",
    "\n",
    "    s3BucketName = \"panoramas-of-cinema\"\n",
    "    region_name = 'eu-central-1'\n",
    "\n",
    "    i=0\n",
    "    frames_plot = []\n",
    "    for e in my_frames:\n",
    "        film = e['movie']\n",
    "        frame = e['frame']\n",
    "        if i in this_sample:\n",
    "            try:\n",
    "                objectKey = \"frames_db%s/by_scene%s\" % (film, frame)\n",
    "                this_frame = \"https://%s.s3.%s.amazonaws.com/%s\"%(s3BucketName,region_name,objectKey)\n",
    "                img = requests.get(this_frame).content          \n",
    "                frames_plot.append( (film, frame, img) )\n",
    "            except:\n",
    "                raise \n",
    "        i+=1\n",
    "\n",
    "    # PLOT ------------------------------\n",
    "    def on_button_clicked(event):\n",
    "        global movie_2p_tag, frame_2p_tag\n",
    "        global movie_2p, frame_2p\n",
    "        \n",
    "        this_button = id(event)\n",
    "        G = globals()\n",
    "        all_buttons = G['my_globals_tag']['w_buttons']\n",
    "        for i, b in enumerate(all_buttons):\n",
    "            this_id = id(b)\n",
    "            if this_button == this_id:\n",
    "                movie_2p_tag = my_globals_tag['w_buttons'][i].description\n",
    "                frame_2p_tag = my_globals_tag['w_buttons'][i].tooltip\n",
    "                movie_2p = my_globals_tag['w_buttons'][i].description\n",
    "                frame_2p = my_globals_tag['w_buttons'][i].tooltip\n",
    "                \n",
    "    print('...plotting %s images from %s'%(how_many, len(my_frames)))\n",
    "    from ipywidgets import Button, HBox, VBox\n",
    "    import ipywidgets as widgets\n",
    "\n",
    "    k = 0\n",
    "    movie_index, movie_names = 0, []\n",
    "    vboxes = []\n",
    "    for i in range(plot_x):\n",
    "        this_col = []\n",
    "        for j in range(plot_y):\n",
    "            if k < len(frames_plot):\n",
    "                try:\n",
    "                    image_w = widgets.Image(value=frames_plot[k][2], format='png', width=250) #height=400\n",
    "                    button = widgets.Button(description=frames_plot[k][0], tooltip=frames_plot[k][1])\n",
    "                    my_globals_tag['w_buttons'].append(button)\n",
    "\n",
    "                    button.on_click( on_button_clicked )\n",
    "\n",
    "                    this_box = [image_w, button]\n",
    "                    this_col = this_col+this_box\n",
    "\n",
    "                except:\n",
    "                    raise\n",
    "            k+=1\n",
    "\n",
    "        box = VBox( this_col )\n",
    "        vboxes.append(box)\n",
    "\n",
    "    display(HBox( vboxes ))\n",
    "    \n",
    "plot_button_tags = widgets.Button(description=\"show\", button_style='info')\n",
    "plot_button_tags.style.button_color = button_color\n",
    "display(plot_button_tags)\n",
    "plot_button_tags.on_click(plot_frames_tags)"
   ]
  },
  {
   "cell_type": "code",
   "execution_count": null,
   "metadata": {},
   "outputs": [],
   "source": [
    "print('\\n', '\\n', '\\n')"
   ]
  },
  {
   "cell_type": "markdown",
   "metadata": {},
   "source": [
    "# 7. DELETE A TAG"
   ]
  },
  {
   "cell_type": "markdown",
   "metadata": {},
   "source": [
    "### > click on an image"
   ]
  },
  {
   "cell_type": "code",
   "execution_count": null,
   "metadata": {},
   "outputs": [],
   "source": [
    "def delete_tag(event):\n",
    "    clear_output()\n",
    "    display(delete_tag_button)\n",
    "        \n",
    "    this_user = w_user_search.kwargs['user_search']\n",
    "    this_tag = w_tag_search.kwargs['tag_search']\n",
    "    if len(this_user) > 0 and len(this_tag) > 0:\n",
    "        this_frame = '%s,%s'%(movie_2p_tag,frame_2p_tag)\n",
    "        this_request = tag_http+'?action=DELETE&tag=%s&user=%s&frame=%s'%(this_tag,this_user,this_frame)\n",
    "        r = requests.get(this_request).json()['statusCode']\n",
    "        if r == 200: print('tag deleted : %s %s'%(movie_2p_tag, frame_2p_tag))\n",
    "        else: print ('error %s'%r)\n",
    "    else:\n",
    "        print ('! user or tag is missing')\n",
    "\n",
    "    \n",
    "delete_tag_button = widgets.Button(description=\"delete\", button_style='info')\n",
    "delete_tag_button.style.button_color = button_color\n",
    "display(delete_tag_button)\n",
    "delete_tag_button.on_click(delete_tag)"
   ]
  },
  {
   "cell_type": "code",
   "execution_count": null,
   "metadata": {},
   "outputs": [],
   "source": []
  }
 ],
 "metadata": {
  "kernelspec": {
   "display_name": "Python 3",
   "language": "python",
   "name": "python3"
  },
  "language_info": {
   "codemirror_mode": {
    "name": "ipython",
    "version": 3
   },
   "file_extension": ".py",
   "mimetype": "text/x-python",
   "name": "python",
   "nbconvert_exporter": "python",
   "pygments_lexer": "ipython3",
   "version": "3.7.6"
  }
 },
 "nbformat": 4,
 "nbformat_minor": 4
}
