{
 "cells": [
  {
   "cell_type": "code",
   "execution_count": 1,
   "metadata": {},
   "outputs": [
    {
     "data": {
      "text/html": [
       "<script>\n",
       "code_show=true; \n",
       "function code_toggle() {\n",
       " if (code_show){\n",
       " $('div.input').hide();\n",
       " } else {\n",
       " $('div.input').show();\n",
       " }\n",
       " code_show = !code_show\n",
       "} \n",
       "$( document ).ready(code_toggle);\n",
       "</script>\n",
       "The raw code for this IPython notebook is by default hidden for easier reading.\n",
       "To toggle on/off the raw code, click <a href=\"javascript:code_toggle()\">here</a>."
      ],
      "text/plain": [
       "<IPython.core.display.HTML object>"
      ]
     },
     "execution_count": 1,
     "metadata": {},
     "output_type": "execute_result"
    }
   ],
   "source": [
    "from IPython.display import HTML\n",
    "\n",
    "HTML('''<script>\n",
    "code_show=true; \n",
    "function code_toggle() {\n",
    " if (code_show){\n",
    " $('div.input').hide();\n",
    " } else {\n",
    " $('div.input').show();\n",
    " }\n",
    " code_show = !code_show\n",
    "} \n",
    "$( document ).ready(code_toggle);\n",
    "</script>\n",
    "The raw code for this IPython notebook is by default hidden for easier reading.\n",
    "To toggle on/off the raw code, click <a href=\"javascript:code_toggle()\">here</a>.''')"
   ]
  },
  {
   "cell_type": "markdown",
   "metadata": {
    "slideshow": {
     "slide_type": "-"
    }
   },
   "source": [
    "### panoramas of cinema online"
   ]
  },
  {
   "cell_type": "markdown",
   "metadata": {},
   "source": [
    "# //IMAGE SEARCH\n",
    "v0.01"
   ]
  },
  {
   "cell_type": "code",
   "execution_count": 2,
   "metadata": {
    "code_folding": []
   },
   "outputs": [],
   "source": [
    "# REQUEST INDEXES\n",
    "import requests\n",
    "r = requests.get(\"https://panoramas-of-cinema.s3.eu-central-1.amazonaws.com/indexes/videotheques_inv.json\")\n",
    "query_response = r.json()"
   ]
  },
  {
   "cell_type": "markdown",
   "metadata": {},
   "source": [
    "# 1. SEARCH THE VIDEOTHEQUE"
   ]
  },
  {
   "cell_type": "markdown",
   "metadata": {},
   "source": [
    "### places index"
   ]
  },
  {
   "cell_type": "code",
   "execution_count": 3,
   "metadata": {
    "code_folding": [],
    "scrolled": false
   },
   "outputs": [
    {
     "name": "stdout",
     "output_type": "stream",
     "text": [
      "airfield  .  airplane_cabin  .  airport_terminal  .  alcove  .  alley  .  amphitheater  .  amusement_arcade  .  amusement_park  .  apartment_building_outdoor  .  aquarium  .  aqueduct  .  arcade  .  arch  .  archaelogical_excavation  .  archive  .  arena_hockey  .  arena_performance  .  arena_rodeo  .  army_base  .  art_gallery  .  art_school  .  art_studio  .  artists_loft  .  assembly_line  .  athletic_field_outdoor  .  atrium_public  .  attic  .  auditorium  .  auto_factory  .  auto_showroom  .  badlands  .  bakery_shop  .  balcony_exterior  .  balcony_interior  .  ball_pit  .  ballroom  .  bamboo_forest  .  bank_vault  .  banquet_hall  .  bar  .  barn  .  barndoor  .  baseball_field  .  basement  .  basketball_court_indoor  .  bathroom  .  bazaar_indoor  .  bazaar_outdoor  .  beach  .  beach_house  .  beauty_salon  .  bedchamber  .  bedroom  .  beer_garden  .  beer_hall  .  berth  .  biology_laboratory  .  boardwalk  .  boat_deck  .  boathouse  .  bookstore  .  booth_indoor  .  botanical_garden  .  bow_window_indoor  .  bowling_alley  .  boxing_ring  .  bridge  .  building_facade  .  bullring  .  burial_chamber  .  bus_interior  .  bus_station_indoor  .  butchers_shop  .  butte  .  cabin_outdoor  .  cafeteria  .  campsite  .  campus  .  canal_natural  .  canal_urban  .  candy_store  .  canyon  .  car_interior  .  carrousel  .  castle  .  catacomb  .  cemetery  .  chalet  .  chemistry_lab  .  childs_room  .  church_indoor  .  church_outdoor  .  classroom  .  clean_room  .  cliff  .  closet  .  clothing_store  .  coast  .  cockpit  .  coffee_shop  .  computer_room  .  conference_center  .  conference_room  .  construction_site  .  corn_field  .  corral  .  corridor  .  cottage  .  courthouse  .  courtyard  .  creek  .  crevasse  .  crosswalk  .  dam  .  delicatessen  .  department_store  .  desert_road  .  desert_sand  .  desert_vegetation  .  diner_outdoor  .  dining_hall  .  dining_room  .  discotheque  .  doorway_outdoor  .  dorm_room  .  downtown  .  dressing_room  .  driveway  .  drugstore  .  elevator_door  .  elevator_lobby  .  elevator_shaft  .  embassy  .  engine_room  .  entrance_hall  .  escalator_indoor  .  excavation  .  fabric_store  .  farm  .  fastfood_restaurant  .  field_cultivated  .  field_road  .  field_wild  .  fire_escape  .  fire_station  .  fishpond  .  flea_market_indoor  .  florist_shop_indoor  .  food_court  .  football_field  .  forest_broadleaf  .  forest_path  .  forest_road  .  formal_garden  .  fountain  .  galley  .  garage_indoor  .  garage_outdoor  .  gas_station  .  gazebo_exterior  .  general_store_indoor  .  general_store_outdoor  .  gift_shop  .  glacier  .  golf_course  .  greenhouse_indoor  .  greenhouse_outdoor  .  grotto  .  gymnasium_indoor  .  hangar_indoor  .  hangar_outdoor  .  harbor  .  hardware_store  .  hayfield  .  heliport  .  highway  .  home_office  .  home_theater  .  hospital  .  hospital_room  .  hot_spring  .  hotel_outdoor  .  hotel_room  .  house  .  hunting_lodge_outdoor  .  ice_cream_parlor  .  ice_floe  .  ice_shelf  .  ice_skating_rink_indoor  .  ice_skating_rink_outdoor  .  iceberg  .  igloo  .  industrial_area  .  inn_outdoor  .  islet  .  jacuzzi_indoor  .  jail_cell  .  japanese_garden  .  jewelry_shop  .  junkyard  .  kasbah  .  kennel_outdoor  .  kindergarden_classroom  .  kitchen  .  lagoon  .  lake_natural  .  landfill  .  landing_deck  .  laundromat  .  lawn  .  lecture_room  .  legislative_chamber  .  library_indoor  .  library_outdoor  .  lighthouse  .  living_room  .  loading_dock  .  lobby  .  lock_chamber  .  locker_room  .  mansion  .  manufactured_home  .  market_indoor  .  market_outdoor  .  marsh  .  martial_arts_gym  .  mausoleum  .  medina  .  mezzanine  .  moat_water  .  mosque_outdoor  .  motel  .  mountain  .  mountain_path  .  mountain_snowy  .  movie_theater_indoor  .  museum_indoor  .  museum_outdoor  .  music_studio  .  natural_history_museum  .  nursery  .  nursing_home  .  oast_house  .  ocean  .  office  .  office_building  .  office_cubicles  .  oilrig  .  operating_room  .  orchard  .  orchestra_pit  .  pagoda  .  palace  .  pantry  .  park  .  parking_garage_indoor  .  parking_garage_outdoor  .  parking_lot  .  pasture  .  patio  .  pavilion  .  pet_shop  .  pharmacy  .  phone_booth  .  physics_laboratory  .  picnic_area  .  pier  .  pizzeria  .  playground  .  playroom  .  plaza  .  pond  .  porch  .  promenade  .  pub_indoor  .  racecourse  .  raceway  .  raft  .  railroad_track  .  rainforest  .  reception  .  recreation_room  .  repair_shop  .  residential_neighborhood  .  restaurant  .  restaurant_kitchen  .  restaurant_patio  .  rice_paddy  .  river  .  rock_arch  .  roof_garden  .  rope_bridge  .  ruin  .  runway  .  sandbox  .  sauna  .  schoolhouse  .  science_museum  .  server_room  .  shed  .  shoe_shop  .  shopfront  .  shopping_mall_indoor  .  shower  .  ski_resort  .  ski_slope  .  sky  .  skyscraper  .  slum  .  snowfield  .  soccer_field  .  stable  .  stadium_baseball  .  stadium_football  .  stadium_soccer  .  stage_indoor  .  stage_outdoor  .  staircase  .  storage_room  .  street  .  subway_station_platform  .  supermarket  .  sushi_bar  .  swamp  .  swimming_hole  .  swimming_pool_indoor  .  swimming_pool_outdoor  .  synagogue_outdoor  .  television_room  .  television_studio  .  temple_asia  .  throne_room  .  ticket_booth  .  topiary_garden  .  tower  .  toyshop  .  train_interior  .  train_station_platform  .  tree_farm  .  tree_house  .  trench  .  tundra  .  underwater_ocean_deep  .  utility_room  .  valley  .  vegetable_garden  .  veterinarians_office  .  viaduct  .  village  .  vineyard  .  volcano  .  volleyball_court_outdoor  .  waiting_room  .  water_park  .  water_tower  .  waterfall  .  watering_hole  .  wave  .  wet_bar  .  wheat_field  .  wind_farm  .  windmill  .  yard  .  youth_hostel  .  zen_garden  .  "
     ]
    }
   ],
   "source": [
    "# SHOW INDEXES \n",
    "for e in sorted(query_response['places']):\n",
    "    print(e, end='  .  ')"
   ]
  },
  {
   "cell_type": "markdown",
   "metadata": {},
   "source": [
    "### objects index"
   ]
  },
  {
   "cell_type": "code",
   "execution_count": 4,
   "metadata": {
    "code_folding": []
   },
   "outputs": [
    {
     "name": "stdout",
     "output_type": "stream",
     "text": [
      "aeroplane  .  apple  .  backpack  .  banana  .  baseball_bat  .  baseball_glove  .  bear  .  bed  .  bench  .  bicycle  .  bird  .  boat  .  book  .  bottle  .  bowl  .  broccoli  .  bus  .  cake  .  car  .  carrot  .  cat  .  cell_phone  .  chair  .  clock  .  cow  .  cup  .  diningtable  .  dog  .  donut  .  elephant  .  fire_hydrant  .  fork  .  frisbee  .  giraffe  .  hair_drier  .  handbag  .  horse  .  hot_dog  .  keyboard  .  kite  .  knife  .  laptop  .  microwave  .  motorbike  .  mouse  .  orange  .  oven  .  parking_meter  .  person  .  pizza  .  pottedplant  .  refrigerator  .  remote  .  sandwich  .  scissors  .  sheep  .  sink  .  skateboard  .  skis  .  snowboard  .  sofa  .  spoon  .  sports_ball  .  stop_sign  .  suitcase  .  surfboard  .  teddy_bear  .  tennis_racket  .  tie  .  toaster  .  toilet  .  toothbrush  .  traffic_light  .  train  .  truck  .  tvmonitor  .  umbrella  .  vase  .  wine_glass  .  zebra  .  "
     ]
    }
   ],
   "source": [
    "# SHOW INDEXES \n",
    "for e in sorted(query_response['objects']):\n",
    "    print(e, end='  .  ')"
   ]
  },
  {
   "cell_type": "markdown",
   "metadata": {},
   "source": [
    "### > type the indexes and tune their values"
   ]
  },
  {
   "cell_type": "code",
   "execution_count": 5,
   "metadata": {
    "code_folding": [],
    "scrolled": false
   },
   "outputs": [
    {
     "data": {
      "application/vnd.jupyter.widget-view+json": {
       "model_id": "21166954953a4f0fb9680316cf413f70",
       "version_major": 2,
       "version_minor": 0
      },
      "text/plain": [
       "interactive(children=(Text(value='hospital_room', description='place'), FloatSlider(value=0.0, description='mi…"
      ]
     },
     "metadata": {},
     "output_type": "display_data"
    },
    {
     "data": {
      "application/vnd.jupyter.widget-view+json": {
       "model_id": "600bba18cbe1499c938c46aa962bdc4d",
       "version_major": 2,
       "version_minor": 0
      },
      "text/plain": [
       "interactive(children=(Text(value='chair', description='obj'), FloatSlider(value=0.0, description='min_conf', m…"
      ]
     },
     "metadata": {},
     "output_type": "display_data"
    }
   ],
   "source": [
    "# DISPLAY WIDGETS \n",
    "from IPython.display import display, clear_output\n",
    "from ipywidgets import interactive, interact\n",
    "import ipywidgets as widgets\n",
    "\n",
    "def p(place, min_conf, max_conf):\n",
    "    return\n",
    "\n",
    "def o(obj, min_conf, max_conf):\n",
    "    return\n",
    "\n",
    "w_places = interactive(p, place='hospital_room',\n",
    "                min_conf=widgets.FloatSlider(min=0.00, max=1., step=.001, value=.0),\n",
    "                max_conf=widgets.FloatSlider(min=0.00, max=1., step=.001, value=1.) )\n",
    "\n",
    "w_objects = interactive(o, obj='chair',\n",
    "                min_conf=widgets.FloatSlider(min=0.00, max=1., step=.001, value=.0),\n",
    "                max_conf=widgets.FloatSlider(min=0.00, max=1., step=.001, value=1.) )\n",
    "\n",
    "\n",
    "display(w_places)\n",
    "display(w_objects)"
   ]
  },
  {
   "cell_type": "markdown",
   "metadata": {},
   "source": [
    "### > select the faces"
   ]
  },
  {
   "cell_type": "code",
   "execution_count": 6,
   "metadata": {},
   "outputs": [
    {
     "data": {
      "application/vnd.jupyter.widget-view+json": {
       "model_id": "4741db6301ff4dcf9908f845f14991af",
       "version_major": 2,
       "version_minor": 0
      },
      "text/plain": [
       "interactive(children=(Checkbox(value=True, description='no_faces'), Checkbox(value=True, description='small_fa…"
      ]
     },
     "metadata": {},
     "output_type": "display_data"
    }
   ],
   "source": [
    "def f(no_faces, small_faces):\n",
    "    return\n",
    "w_faces = interactive(f, no_faces=True, small_faces=True)\n",
    "display(w_faces)"
   ]
  },
  {
   "cell_type": "code",
   "execution_count": 7,
   "metadata": {
    "code_folding": []
   },
   "outputs": [
    {
     "data": {
      "application/vnd.jupyter.widget-view+json": {
       "model_id": "54f4567de33f417d9c1b921b439cb006",
       "version_major": 2,
       "version_minor": 0
      },
      "text/plain": [
       "Button(button_style='info', description='search', style=ButtonStyle())"
      ]
     },
     "metadata": {},
     "output_type": "display_data"
    }
   ],
   "source": [
    "# REFRESH QUERY\n",
    "def refresh_query(event):\n",
    "    clear_output()\n",
    "    display(refresh_button)\n",
    "    \n",
    "    place = w_places.kwargs['place']\n",
    "    place_conf = \"%s,%s\"%(w_places.kwargs['min_conf'],w_places.kwargs['max_conf'])\n",
    "\n",
    "    obj = w_objects.kwargs['obj']\n",
    "    obj_conf = \"%s,%s\"%(w_objects.kwargs['min_conf'],w_objects.kwargs['max_conf'])\n",
    "\n",
    "    faces = str()\n",
    "    if w_faces.kwargs['no_faces']:\n",
    "        faces = faces+'no_faces'\n",
    "    if w_faces.kwargs['small_faces']:\n",
    "        if len(faces) > 0:\n",
    "            faces = faces+',small_faces'\n",
    "        else:\n",
    "            faces = faces+'small_faces'\n",
    "\n",
    "    # \n",
    "    this_query = 'http://pocquery-env.eba-ap3n3cr3.eu-central-1.elasticbeanstalk.com/query?'\n",
    "    if place: this_query = this_query+'places=%s,%s'%(place,place_conf)\n",
    "    if faces: this_query = this_query+'&faces=%s'%faces\n",
    "    if obj: this_query = this_query+'&objects=%s,%s'%(obj,obj_conf)\n",
    "    \n",
    "    global my_frames\n",
    "    my_frames = requests.get(this_query).json()['response']\n",
    "    print (len(my_frames), 'images with the search : %s'%this_query[73:])\n",
    "    \n",
    "    global my_globals\n",
    "    my_globals = {'plotted':[], 'w_buttons':[]}\n",
    "\n",
    "                    \n",
    "refresh_button = widgets.Button(description=\"search\", button_style='info')\n",
    "display(refresh_button)\n",
    "refresh_button.on_click(refresh_query)"
   ]
  },
  {
   "cell_type": "markdown",
   "metadata": {},
   "source": [
    "# 2. SHOW THE VIDEOTHEQUE'S RESULTS"
   ]
  },
  {
   "cell_type": "code",
   "execution_count": 8,
   "metadata": {
    "code_folding": []
   },
   "outputs": [
    {
     "data": {
      "application/vnd.jupyter.widget-view+json": {
       "model_id": "6946698d90fe4f5b9a6a766f3255c33b",
       "version_major": 2,
       "version_minor": 0
      },
      "text/plain": [
       "Button(button_style='info', description='show', style=ButtonStyle())"
      ]
     },
     "metadata": {},
     "output_type": "display_data"
    }
   ],
   "source": [
    "# PLOT RANDOM FRAMES\n",
    "def plot_frames(event):\n",
    "    clear_output()\n",
    "    display(plot_button)\n",
    "    \n",
    "    how_many = 16\n",
    "    plot_x, plot_y = 4,4\n",
    "\n",
    "    if len(my_frames) < how_many:\n",
    "        how_many = len(my_frames)\n",
    "\n",
    "    all_i = [ i for i in range(len(my_frames)) ]\n",
    "\n",
    "    import random\n",
    "    on_off = True\n",
    "    this_sample = []\n",
    "    while on_off:\n",
    "        if len(my_globals['plotted']) == len(my_frames):\n",
    "            my_globals['plotted'] = []\n",
    "            print(\"...you've seen it all\")\n",
    "        r = random.choice(all_i)\n",
    "        if r in my_globals['plotted']:\n",
    "            pass\n",
    "        else:\n",
    "            this_sample.append(r)\n",
    "            my_globals['plotted'].append(r)\n",
    "            if len(my_globals['plotted']) == len(my_frames):\n",
    "                print('...last batch')\n",
    "                break\n",
    "        if len(this_sample) == how_many:\n",
    "            break\n",
    "\n",
    "    # OPEN IMAGES ------------------------------\n",
    "    import requests\n",
    "    s3BucketName = \"panoramas-of-cinema\"\n",
    "    region_name = 'eu-central-1'\n",
    "\n",
    "    i=0\n",
    "    frames_plot = []\n",
    "    for e in my_frames:\n",
    "        film = e['movieId']\n",
    "        frame = e['frameId']\n",
    "        if i in this_sample:\n",
    "            try:\n",
    "                objectKey = \"frames_db%s/by_scene%s\" % (film, frame)\n",
    "                this_frame = \"https://%s.s3.%s.amazonaws.com/%s\"%(s3BucketName,region_name,objectKey)\n",
    "                img = requests.get(this_frame).content          \n",
    "                frames_plot.append( (film, frame, img) )\n",
    "            except:\n",
    "                raise \n",
    "        i+=1\n",
    "\n",
    "    # PLOT ------------------------------\n",
    "    def on_button_clicked(event):\n",
    "        global movie_2p\n",
    "        global frame_2p\n",
    "        this_button = id(event)\n",
    "        G = globals()\n",
    "        all_buttons = G['my_globals']['w_buttons']\n",
    "        for i, b in enumerate(all_buttons):\n",
    "            this_id = id(b)\n",
    "            if this_button == this_id:\n",
    "                movie_2p = my_globals['w_buttons'][i].description\n",
    "                frame_2p = my_globals['w_buttons'][i].tooltip\n",
    "\n",
    "    print('...plotting %s images from %s'%(how_many, len(my_frames)))\n",
    "    from ipywidgets import Button, HBox, VBox\n",
    "    import ipywidgets as widgets\n",
    "\n",
    "    k = 0\n",
    "    movie_index, movie_names = 0, []\n",
    "    vboxes = []\n",
    "    for i in range(plot_x):\n",
    "        this_col = []\n",
    "        for j in range(plot_y):\n",
    "            if k < len(frames_plot):\n",
    "                try:\n",
    "                    image_w = widgets.Image(value=frames_plot[k][2], format='png', width=250) #height=400\n",
    "                    button = widgets.Button(description=frames_plot[k][0], tooltip=frames_plot[k][1])\n",
    "                    my_globals['w_buttons'].append(button)\n",
    "\n",
    "                    button.on_click( on_button_clicked )\n",
    "\n",
    "                    this_box = [image_w, button]\n",
    "                    this_col = this_col+this_box\n",
    "\n",
    "                except:\n",
    "                    raise\n",
    "            k+=1\n",
    "\n",
    "        box = VBox( this_col )\n",
    "        vboxes.append(box)\n",
    "\n",
    "    display(HBox( vboxes ))\n",
    "    \n",
    "plot_button = widgets.Button(description=\"show\", button_style='info')\n",
    "display(plot_button)\n",
    "plot_button.on_click(plot_frames)"
   ]
  },
  {
   "cell_type": "markdown",
   "metadata": {},
   "source": [
    "# 3. PLAY A CLIP"
   ]
  },
  {
   "cell_type": "markdown",
   "metadata": {},
   "source": [
    "### > click on an image"
   ]
  },
  {
   "cell_type": "code",
   "execution_count": 9,
   "metadata": {},
   "outputs": [
    {
     "data": {
      "application/vnd.jupyter.widget-view+json": {
       "model_id": "a280c590aff04747ad9251d419e38a08",
       "version_major": 2,
       "version_minor": 0
      },
      "text/plain": [
       "Button(button_style='info', description='play', style=ButtonStyle())"
      ]
     },
     "metadata": {},
     "output_type": "display_data"
    }
   ],
   "source": [
    "# PLAY THE CLIP \n",
    "def play_clip(event):\n",
    "    clear_output()\n",
    "    display(play_button)\n",
    "    \n",
    "    clip_query = 'http://18.159.23.146/clip?movie=%s&frame=%s'%(movie_2p[1:],frame_2p[7:-4])\n",
    "    html_doc = requests.get(clip_query)\n",
    "\n",
    "    from bs4 import BeautifulSoup\n",
    "    soup = BeautifulSoup(html_doc.text, 'html.parser')\n",
    "    my_clip = soup.p.text\n",
    "\n",
    "    from IPython.display import Video\n",
    "    display(Video(my_clip, height=300)) \n",
    "    \n",
    "play_button = widgets.Button(description=\"play\", button_style='info')\n",
    "display(play_button)\n",
    "play_button.on_click(play_clip)"
   ]
  },
  {
   "cell_type": "markdown",
   "metadata": {},
   "source": [
    "# 4. ADD YOUR TAGS"
   ]
  },
  {
   "cell_type": "markdown",
   "metadata": {},
   "source": [
    "### > click on an image and type its tag and your user name"
   ]
  },
  {
   "cell_type": "code",
   "execution_count": 10,
   "metadata": {},
   "outputs": [],
   "source": [
    "tag_http = 'http://poctag-env.eba-vjpstfpz.eu-central-1.elasticbeanstalk.com/tags'"
   ]
  },
  {
   "cell_type": "code",
   "execution_count": 11,
   "metadata": {},
   "outputs": [
    {
     "data": {
      "application/vnd.jupyter.widget-view+json": {
       "model_id": "1d452e6c38e34cc9a8ca12756643fba0",
       "version_major": 2,
       "version_minor": 0
      },
      "text/plain": [
       "interactive(children=(Text(value='', description='user'), Output()), _dom_classes=('widget-interact',))"
      ]
     },
     "metadata": {},
     "output_type": "display_data"
    },
    {
     "data": {
      "application/vnd.jupyter.widget-view+json": {
       "model_id": "e60faa81b4b34bf4b2c09a938a566a76",
       "version_major": 2,
       "version_minor": 0
      },
      "text/plain": [
       "interactive(children=(Text(value='', description='tag'), Output()), _dom_classes=('widget-interact',))"
      ]
     },
     "metadata": {},
     "output_type": "display_data"
    },
    {
     "data": {
      "application/vnd.jupyter.widget-view+json": {
       "model_id": "86dbdd17269543c9b2d28d5f3609f3b8",
       "version_major": 2,
       "version_minor": 0
      },
      "text/plain": [
       "Button(button_style='info', description='add tag', style=ButtonStyle())"
      ]
     },
     "metadata": {},
     "output_type": "display_data"
    }
   ],
   "source": [
    "# DISPLAY WIDGETS \n",
    "def getUser(user):\n",
    "    return\n",
    "\n",
    "def getTag(tag):\n",
    "    return\n",
    "\n",
    "w_user = interactive(getUser, user='')\n",
    "w_tag = interactive(getTag, tag='')\n",
    "\n",
    "# REFRESH QUERY\n",
    "def add_tag(event):\n",
    "    clear_output()\n",
    "    display(w_user)\n",
    "    display(w_tag)\n",
    "    display(add_tag_button)\n",
    "    \n",
    "    this_user = w_user.kwargs['user']\n",
    "    this_tag = w_tag.kwargs['tag']\n",
    "    this_frame = '%s,%s'%(movie_2p,frame_2p)\n",
    "    this_request = tag_http+'?action=ADD&tag=%s&user=%s&frame=%s'%(this_tag,this_user,this_frame)\n",
    "    r = requests.get(this_request).json()['statusCode']\n",
    "    if r == 200: print('tag added to : %s %s'%(movie_2p, frame_2p))\n",
    "    else: print ('error %s'%r)\n",
    "\n",
    "add_tag_button = widgets.Button(description=\"add tag\", button_style='info')\n",
    "add_tag_button.on_click(add_tag)\n",
    "\n",
    "display(w_user)\n",
    "display(w_tag)\n",
    "display(add_tag_button)"
   ]
  },
  {
   "cell_type": "markdown",
   "metadata": {},
   "source": [
    "# 5. SEARCH THE TAGS"
   ]
  },
  {
   "cell_type": "markdown",
   "metadata": {},
   "source": [
    "### tags index"
   ]
  },
  {
   "cell_type": "code",
   "execution_count": 12,
   "metadata": {},
   "outputs": [
    {
     "name": "stdout",
     "output_type": "stream",
     "text": [
      "beach  .  big_hall  .  blue  .  danae  .  domestic  .  excitement  .  ice  .  kisses  .  lynchean  .  mustache  .  raining  .  sleep  .  sleepy bear  .  smile  .  steam  .  white  .  write  .  "
     ]
    },
    {
     "data": {
      "application/vnd.jupyter.widget-view+json": {
       "model_id": "f00412e6e4bd4319a77592d1884775a0",
       "version_major": 2,
       "version_minor": 0
      },
      "text/plain": [
       "Button(button_style='info', description='refresh tags', style=ButtonStyle())"
      ]
     },
     "metadata": {},
     "output_type": "display_data"
    }
   ],
   "source": [
    "this_request = tag_http+'?action=GET_ALL_TAGS'\n",
    "r = requests.get(this_request).json()['body']\n",
    "for e in sorted(r):\n",
    "    print(e, end='  .  ')\n",
    "\n",
    "def get_tags(event):\n",
    "    clear_output()\n",
    "\n",
    "    this_request = tag_http+'?action=GET_ALL_TAGS'\n",
    "    r = requests.get(this_request).json()['body']\n",
    "    for e in sorted(r):\n",
    "        print(e, end='  .  ')\n",
    "    \n",
    "    display(refresh_tags_button)\n",
    "\n",
    "        \n",
    "refresh_tags_button = widgets.Button(description=\"refresh tags\", button_style='info')\n",
    "display(refresh_tags_button)\n",
    "refresh_tags_button.on_click(get_tags)"
   ]
  },
  {
   "cell_type": "markdown",
   "metadata": {},
   "source": [
    "### users index"
   ]
  },
  {
   "cell_type": "code",
   "execution_count": 13,
   "metadata": {},
   "outputs": [
    {
     "name": "stdout",
     "output_type": "stream",
     "text": [
      "cowboy  .  jorge  .  monkey2  .  monkey66  .  pig  .  sheriff  .  slash  .  "
     ]
    },
    {
     "data": {
      "application/vnd.jupyter.widget-view+json": {
       "model_id": "86b0918363f4488d9c000d81e43e51e8",
       "version_major": 2,
       "version_minor": 0
      },
      "text/plain": [
       "Button(button_style='info', description='refresh users', style=ButtonStyle())"
      ]
     },
     "metadata": {},
     "output_type": "display_data"
    }
   ],
   "source": [
    "this_request = tag_http+'?action=GET_ALL_USERS'\n",
    "r = requests.get(this_request).json()['body']\n",
    "for e in sorted(r):\n",
    "    print(e, end='  .  ')\n",
    "\n",
    "def get_users(event):\n",
    "    clear_output()\n",
    "\n",
    "    this_request = tag_http+'?action=GET_ALL_USERS'\n",
    "    r = requests.get(this_request).json()['body']\n",
    "    for e in sorted(r):\n",
    "        print(e, end='  .  ')\n",
    "    \n",
    "    display(refresh_users_button)\n",
    "\n",
    "        \n",
    "refresh_users_button = widgets.Button(description=\"refresh users\", button_style='info')\n",
    "display(refresh_users_button)\n",
    "refresh_users_button.on_click(get_users)"
   ]
  },
  {
   "cell_type": "markdown",
   "metadata": {},
   "source": [
    "### > type a tag and/or user"
   ]
  },
  {
   "cell_type": "code",
   "execution_count": 14,
   "metadata": {},
   "outputs": [
    {
     "data": {
      "application/vnd.jupyter.widget-view+json": {
       "model_id": "07a77ae6e8c04155a88a55e75c03e759",
       "version_major": 2,
       "version_minor": 0
      },
      "text/plain": [
       "interactive(children=(Text(value='', description='user_search'), Output()), _dom_classes=('widget-interact',))"
      ]
     },
     "metadata": {},
     "output_type": "display_data"
    },
    {
     "data": {
      "application/vnd.jupyter.widget-view+json": {
       "model_id": "3d513822978c4269a6590891b791e9c1",
       "version_major": 2,
       "version_minor": 0
      },
      "text/plain": [
       "interactive(children=(Text(value='', description='tag_search'), Output()), _dom_classes=('widget-interact',))"
      ]
     },
     "metadata": {},
     "output_type": "display_data"
    },
    {
     "data": {
      "application/vnd.jupyter.widget-view+json": {
       "model_id": "23075c5a5b1345569a38fdcecf27b2d2",
       "version_major": 2,
       "version_minor": 0
      },
      "text/plain": [
       "Button(button_style='info', description='search tag', style=ButtonStyle())"
      ]
     },
     "metadata": {},
     "output_type": "display_data"
    }
   ],
   "source": [
    "# BOXES \n",
    "def getUserSearch(user_search):\n",
    "    return\n",
    "\n",
    "def getTagSearch(tag_search):\n",
    "    return\n",
    "\n",
    "w_user_search = interactive(getUserSearch, user_search='')\n",
    "w_tag_search = interactive(getTagSearch, tag_search='')\n",
    "\n",
    "# BUTTON\n",
    "def search_tag(event):\n",
    "    clear_output()\n",
    "    display(w_user_search)\n",
    "    display(w_tag_search)\n",
    "    display(search_tag_button)\n",
    "    \n",
    "    this_user = w_user_search.kwargs['user_search']\n",
    "    this_tag = w_tag_search.kwargs['tag_search']\n",
    "    \n",
    "    global my_frames_tag\n",
    "    if len(this_user) > 0 and len(this_tag) > 0:\n",
    "        this_request = tag_http+'?action=GET_FRAMES_USER_TAG&tag=%s&user=%s'%(this_tag,this_user)\n",
    "        my_frames_tag = requests.get(this_request).json()\n",
    "        this_length = len(my_frames_tag['body'])\n",
    "        print (this_length, 'images with this search')\n",
    "    elif len(this_user) > 0 and len(this_tag) == 0:\n",
    "        this_request = tag_http+'?action=GET_FRAMES_USER&user=%s'%(this_user)\n",
    "        my_frames_tag = requests.get(this_request).json()\n",
    "        this_length = len(my_frames_tag['body'])\n",
    "        print (this_length, 'images with this search')\n",
    "        this_tags = set([ f['tag'] for f in my_frames_tag['body'] ])\n",
    "        print ('')\n",
    "        print (this_user, 'is talking about : ')\n",
    "        for e in sorted(this_tags): print(e, end='  .  ')\n",
    "    elif len(this_user) == 0 and len(this_tag) > 0:\n",
    "        this_request = tag_http+'?action=GET_FRAMES_TAG&tag=%s'%(this_tag)\n",
    "        my_frames_tag = requests.get(this_request).json()\n",
    "        this_length = len(my_frames_tag['body'])\n",
    "        print (this_length, 'images with this search')\n",
    "        this_users = set([ f['user'] for f in my_frames_tag['body'] ])\n",
    "        print ('')\n",
    "        print (this_tag, 'is talked about by :')\n",
    "        for e in sorted(this_users): print(e, end='  .  ')\n",
    "    else:\n",
    "        print ('type a user name and/or a tag')\n",
    "                \n",
    "    global my_globals_tag\n",
    "    my_globals_tag = {'plotted':[], 'w_buttons':[]}\n",
    "        \n",
    "display(w_user_search)\n",
    "display(w_tag_search)\n",
    "search_tag_button = widgets.Button(description=\"search tag\", button_style='info')\n",
    "display(search_tag_button)\n",
    "search_tag_button.on_click(search_tag)"
   ]
  },
  {
   "cell_type": "markdown",
   "metadata": {},
   "source": [
    "# 6. SHOW TAG'S RESULTS"
   ]
  },
  {
   "cell_type": "code",
   "execution_count": 15,
   "metadata": {},
   "outputs": [
    {
     "data": {
      "application/vnd.jupyter.widget-view+json": {
       "model_id": "f8fd26f2dc334f1d897db629c181099c",
       "version_major": 2,
       "version_minor": 0
      },
      "text/plain": [
       "Button(button_style='info', description='show', style=ButtonStyle())"
      ]
     },
     "metadata": {},
     "output_type": "display_data"
    }
   ],
   "source": [
    "# PLOT RANDOM FRAMES \n",
    "def plot_frames_tags(event):\n",
    "    clear_output()\n",
    "    display(plot_button_tags)\n",
    "    \n",
    "    my_frames = my_frames_tag['body']\n",
    "    how_many = 16\n",
    "    plot_x, plot_y = 4,4\n",
    "\n",
    "    if len(my_frames) < how_many:\n",
    "        how_many = len(my_frames)\n",
    "\n",
    "    all_i = [ i for i in range(len(my_frames)) ]\n",
    "\n",
    "    import random\n",
    "    on_off = True\n",
    "    this_sample = []\n",
    "    while on_off:\n",
    "        if len(my_globals_tag['plotted']) == len(my_frames):\n",
    "            my_globals_tag['plotted'] = []\n",
    "            print(\"...you've seen it all\")\n",
    "        r = random.choice(all_i)\n",
    "        if r in my_globals_tag['plotted']:\n",
    "            pass\n",
    "        else:\n",
    "            this_sample.append(r)\n",
    "            my_globals_tag['plotted'].append(r)\n",
    "            if len(my_globals_tag['plotted']) == len(my_frames):\n",
    "                print('...last batch')\n",
    "                break\n",
    "        if len(this_sample) == how_many:\n",
    "            break\n",
    "\n",
    "    # OPEN IMAGES ------------------------------\n",
    "    import requests\n",
    "\n",
    "    s3BucketName = \"panoramas-of-cinema\"\n",
    "    region_name = 'eu-central-1'\n",
    "\n",
    "    i=0\n",
    "    frames_plot = []\n",
    "    for e in my_frames:\n",
    "        film = e['movie']\n",
    "        frame = e['frame']\n",
    "        if i in this_sample:\n",
    "            try:\n",
    "                objectKey = \"frames_db%s/by_scene%s\" % (film, frame)\n",
    "                this_frame = \"https://%s.s3.%s.amazonaws.com/%s\"%(s3BucketName,region_name,objectKey)\n",
    "                img = requests.get(this_frame).content          \n",
    "                frames_plot.append( (film, frame, img) )\n",
    "            except:\n",
    "                raise \n",
    "        i+=1\n",
    "\n",
    "    # PLOT ------------------------------\n",
    "    def on_button_clicked(event):\n",
    "        global movie_2p_tag\n",
    "        global frame_2p_tag\n",
    "        this_button = id(event)\n",
    "        G = globals()\n",
    "        all_buttons = G['my_globals_tag']['w_buttons']\n",
    "        for i, b in enumerate(all_buttons):\n",
    "            this_id = id(b)\n",
    "            if this_button == this_id:\n",
    "                movie_2p_tag = my_globals_tag['w_buttons'][i].description\n",
    "                frame_2p_tag = my_globals_tag['w_buttons'][i].tooltip\n",
    "\n",
    "    print('...plotting %s images from %s'%(how_many, len(my_frames)))\n",
    "    from ipywidgets import Button, HBox, VBox\n",
    "    import ipywidgets as widgets\n",
    "\n",
    "    k = 0\n",
    "    movie_index, movie_names = 0, []\n",
    "    vboxes = []\n",
    "    for i in range(plot_x):\n",
    "        this_col = []\n",
    "        for j in range(plot_y):\n",
    "            if k < len(frames_plot):\n",
    "                try:\n",
    "                    image_w = widgets.Image(value=frames_plot[k][2], format='png', width=250) #height=400\n",
    "                    button = widgets.Button(description=frames_plot[k][0], tooltip=frames_plot[k][1])\n",
    "                    my_globals_tag['w_buttons'].append(button)\n",
    "\n",
    "                    button.on_click( on_button_clicked )\n",
    "\n",
    "                    this_box = [image_w, button]\n",
    "                    this_col = this_col+this_box\n",
    "\n",
    "                except:\n",
    "                    raise\n",
    "            k+=1\n",
    "\n",
    "        box = VBox( this_col )\n",
    "        vboxes.append(box)\n",
    "\n",
    "    display(HBox( vboxes ))\n",
    "    \n",
    "plot_button_tags = widgets.Button(description=\"show\", button_style='info')\n",
    "display(plot_button_tags)\n",
    "plot_button_tags.on_click(plot_frames_tags)"
   ]
  },
  {
   "cell_type": "markdown",
   "metadata": {},
   "source": [
    "# 7. DELETE A TAG"
   ]
  },
  {
   "cell_type": "markdown",
   "metadata": {},
   "source": [
    "### > click on an image"
   ]
  },
  {
   "cell_type": "code",
   "execution_count": 16,
   "metadata": {},
   "outputs": [
    {
     "data": {
      "application/vnd.jupyter.widget-view+json": {
       "model_id": "9b75b79e5d494f26b4fc914718db46bc",
       "version_major": 2,
       "version_minor": 0
      },
      "text/plain": [
       "Button(button_style='info', description='delete', style=ButtonStyle())"
      ]
     },
     "metadata": {},
     "output_type": "display_data"
    }
   ],
   "source": [
    "def delete_tag(event):\n",
    "    clear_output()\n",
    "    display(delete_tag_button)\n",
    "        \n",
    "    this_user = w_user_search.kwargs['user_search']\n",
    "    this_tag = w_tag_search.kwargs['tag_search']\n",
    "    if len(this_user) > 0 and len(this_tag) > 0:\n",
    "        this_frame = '%s,%s'%(movie_2p_tag,frame_2p_tag)\n",
    "        this_request = tag_http+'?action=DELETE&tag=%s&user=%s&frame=%s'%(this_tag,this_user,this_frame)\n",
    "        r = requests.get(this_request).json()['statusCode']\n",
    "        if r == 200: print('tag deleted : %s %s'%(movie_2p_tag, frame_2p_tag))\n",
    "        else: print ('error %s'%r)\n",
    "    else:\n",
    "        print ('! user or tag is missing')\n",
    "\n",
    "    \n",
    "delete_tag_button = widgets.Button(description=\"delete\", button_style='info')\n",
    "display(delete_tag_button)\n",
    "delete_tag_button.on_click(delete_tag)"
   ]
  },
  {
   "cell_type": "code",
   "execution_count": null,
   "metadata": {},
   "outputs": [],
   "source": []
  }
 ],
 "metadata": {
  "kernelspec": {
   "display_name": "Python 3",
   "language": "python",
   "name": "python3"
  },
  "language_info": {
   "codemirror_mode": {
    "name": "ipython",
    "version": 3
   },
   "file_extension": ".py",
   "mimetype": "text/x-python",
   "name": "python",
   "nbconvert_exporter": "python",
   "pygments_lexer": "ipython3",
   "version": "3.7.6"
  }
 },
 "nbformat": 4,
 "nbformat_minor": 4
}
